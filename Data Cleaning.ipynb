{
 "cells": [
  {
   "cell_type": "code",
   "execution_count": 30,
   "metadata": {},
   "outputs": [
    {
     "name": "stdout",
     "output_type": "stream",
     "text": [
      "Project Summary:\n",
      " This notebook is used to extract data from the teacher's observation sheet template clean the data and prepare it for analysis.\n",
      " >> The data is cleaned by removing unnecessary columns and rows.\n",
      " >> The data is prepared for analysis by creating new columns and merging dataframes.\n",
      " >> Get the unique values in the required details column and corresponding value in Teacher's column and use as different columns.\n",
      " >> Extract the metadata from the metrics column and create new columns.\n",
      " >> The data is saved as a Excel file for analysis in the next notebook.\n",
      "\n"
     ]
    }
   ],
   "source": [
    "# Project Summary: \n",
    "print('Project Summary:\\n', \"This notebook is used to extract data from the teacher's observation sheet template clean the data and prepare it for analysis.\\n\",\n",
    "      '>> The data is cleaned by removing unnecessary columns and rows.\\n',\n",
    "      '>> The data is prepared for analysis by creating new columns and merging dataframes.\\n',\n",
    "      \">> Get the unique values in the required details column and corresponding value in Teacher's column and use as different columns.\\n\",\n",
    "      '>> Extract the metadata from the metrics column and create new columns.\\n',\n",
    "      '>> The data is saved as a Excel file for analysis in the next notebook.\\n')"
   ]
  },
  {
   "cell_type": "code",
   "execution_count": 1,
   "metadata": {},
   "outputs": [],
   "source": [
    "# Import libraries\n",
    "import pandas as pd\n",
    "import numpy as np\n",
    "import seaborn as sns\n",
    "import matplotlib.pyplot as plt\n",
    "from scipy.stats import norm\n",
    "\n",
    "# Import data\n",
    "teach_data = pd.read_excel('Teach_Analysis Tool1.xlsx', sheet_name='Teacher 1')"
   ]
  },
  {
   "cell_type": "code",
   "execution_count": 2,
   "metadata": {},
   "outputs": [
    {
     "name": "stdout",
     "output_type": "stream",
     "text": [
      "   Unnamed: 0 Required Details Teacher's  Information  fig  \\\n",
      "0         NaN        SCHOOL ID             Kingsfield  NaN   \n",
      "1         NaN       TEACHER ID                  10012    0   \n",
      "2         NaN         CODER ID                  Godek  0.1   \n",
      "3         NaN          SUBJECT                English  0.1   \n",
      "4         NaN       CLASS SIZE                     20  0.1   \n",
      "\n",
      "                                             Metrics  Score  \\\n",
      "0                                       Time on Task    NaN   \n",
      "1                                   Time on learning    NaN   \n",
      "2  Teacher provides learning activity for most st...    1.0   \n",
      "3  Teacher provides learning activity for most st...    1.0   \n",
      "4  Teacher provides learning activity for most st...    1.0   \n",
      "\n",
      "  Analysis Tool Legend   \n",
      "0                   L=1  \n",
      "1                   M=3  \n",
      "2                   H=5  \n",
      "3               yes = 1  \n",
      "4                no = 0  \n"
     ]
    }
   ],
   "source": [
    "# Print the first 5 rows of the dataframe.\n",
    "print(teach_data.head())"
   ]
  },
  {
   "cell_type": "code",
   "execution_count": 3,
   "metadata": {},
   "outputs": [
    {
     "name": "stdout",
     "output_type": "stream",
     "text": [
      "Data Shape:\n",
      " (67, 7) \n",
      "\n",
      "<class 'pandas.core.frame.DataFrame'>\n",
      "RangeIndex: 67 entries, 0 to 66\n",
      "Data columns (total 7 columns):\n",
      " #   Column                  Non-Null Count  Dtype  \n",
      "---  ------                  --------------  -----  \n",
      " 0   Unnamed: 0              0 non-null      float64\n",
      " 1   Required Details        10 non-null     object \n",
      " 2   Teacher's  Information  10 non-null     object \n",
      " 3   fig                     53 non-null     object \n",
      " 4   Metrics                 67 non-null     object \n",
      " 5   Score                   52 non-null     float64\n",
      " 6   Analysis Tool Legend    7 non-null      object \n",
      "dtypes: float64(2), object(5)\n",
      "memory usage: 3.8+ KB\n",
      "Data Info:\n",
      " None\n"
     ]
    }
   ],
   "source": [
    "# Explore data shape\n",
    "print('Data Shape:\\n', teach_data.shape, '\\n')\n",
    "\n",
    "# Print a summary of non-missing values and data types in the immigration_data DataFrame\n",
    "print('Data Info:\\n',teach_data.info())"
   ]
  },
  {
   "cell_type": "code",
   "execution_count": 20,
   "metadata": {},
   "outputs": [
    {
     "name": "stdout",
     "output_type": "stream",
     "text": [
      "Data Shape:\n",
      " (67, 5) \n",
      "\n",
      "<class 'pandas.core.frame.DataFrame'>\n",
      "RangeIndex: 67 entries, 0 to 66\n",
      "Data columns (total 5 columns):\n",
      " #   Column                  Non-Null Count  Dtype  \n",
      "---  ------                  --------------  -----  \n",
      " 0   Required Details        10 non-null     object \n",
      " 1   Teacher's  Information  10 non-null     object \n",
      " 2   fig                     53 non-null     object \n",
      " 3   Metrics                 67 non-null     object \n",
      " 4   Score                   52 non-null     float64\n",
      "dtypes: float64(1), object(4)\n",
      "memory usage: 2.7+ KB\n",
      "Data Info:\n",
      " None \n",
      "\n",
      "Unique Values in Required Details:\n",
      " ['SCHOOL ID' 'TEACHER ID' 'CODER ID' 'SUBJECT' 'CLASS SIZE'\n",
      " 'CLASS SIZE(Boys)' 'CLASS SIZE(Girls)' 'SCHEDULED TIME' 'ACTUAL TIME'\n",
      " 'SEGMENT LENGTH(Min)' nan] \n",
      "\n",
      "Comment:\n",
      " >> I need separate each unique value into different column. \n",
      "\n"
     ]
    }
   ],
   "source": [
    "# Select the columns that we need.\n",
    "teach_data_clean = teach_data[[\"Required Details\",\"Teacher's  Information\",'fig', 'Metrics', 'Score']]\n",
    "\n",
    "# Explore the data in teach_data_clean.\n",
    "print('Data Shape:\\n', teach_data_clean.shape, '\\n')\n",
    "print('Data Info:\\n',teach_data_clean.info(), '\\n')\n",
    "\n",
    "# Print the unique values in the Required Details columns.\n",
    "print('Unique Values in Required Details:\\n', teach_data_clean['Required Details'].unique(), '\\n')\n",
    "\n",
    "# Comment.\n",
    "print('Comment:\\n', '>> I need separate each unique value into different column.', '\\n')\n"
   ]
  },
  {
   "cell_type": "code",
   "execution_count": 5,
   "metadata": {},
   "outputs": [
    {
     "name": "stdout",
     "output_type": "stream",
     "text": [
      "  Required Details Teacher's  Information  fig  \\\n",
      "0        SCHOOL ID             Kingsfield  NaN   \n",
      "1       TEACHER ID                  10012    0   \n",
      "2         CODER ID                  Godek  0.1   \n",
      "3          SUBJECT                English  0.1   \n",
      "4       CLASS SIZE                     20  0.1   \n",
      "\n",
      "                                             Metrics  Score   School ID  \\\n",
      "0                                       Time on Task    NaN  Kingsfield   \n",
      "1                                   Time on learning    NaN  Kingsfield   \n",
      "2  Teacher provides learning activity for most st...    1.0  Kingsfield   \n",
      "3  Teacher provides learning activity for most st...    1.0  Kingsfield   \n",
      "4  Teacher provides learning activity for most st...    1.0  Kingsfield   \n",
      "\n",
      "   TEACHER ID Classroom ID  Subject  Class Size  CLASS SIZE(Boys)  \\\n",
      "0       10012        Godek  English          20                 8   \n",
      "1       10012        Godek  English          20                 8   \n",
      "2       10012        Godek  English          20                 8   \n",
      "3       10012        Godek  English          20                 8   \n",
      "4       10012        Godek  English          20                 8   \n",
      "\n",
      "   CLASS SIZE(Girls) SCHEDULED TIME ACTUAL TIME  SEGMENT LENGTH  \n",
      "0                 12       12:00:00    12:30:00              30  \n",
      "1                 12       12:00:00    12:30:00              30  \n",
      "2                 12       12:00:00    12:30:00              30  \n",
      "3                 12       12:00:00    12:30:00              30  \n",
      "4                 12       12:00:00    12:30:00              30  \n"
     ]
    },
    {
     "name": "stderr",
     "output_type": "stream",
     "text": [
      "c:\\Users\\godek\\anaconda3\\envs\\myenv\\lib\\site-packages\\ipykernel_launcher.py:15: SettingWithCopyWarning: \n",
      "A value is trying to be set on a copy of a slice from a DataFrame.\n",
      "Try using .loc[row_indexer,col_indexer] = value instead\n",
      "\n",
      "See the caveats in the documentation: https://pandas.pydata.org/pandas-docs/stable/user_guide/indexing.html#returning-a-view-versus-a-copy\n",
      "  from ipykernel import kernelapp as app\n"
     ]
    }
   ],
   "source": [
    "# Set the index to the Required Details column.\n",
    "sch_id = teach_data_clean[\"Teacher's  Information\"].iloc[0]\n",
    "tch_id = teach_data_clean[\"Teacher's  Information\"].iloc[1]\n",
    "cdr_id = teach_data_clean[\"Teacher's  Information\"].iloc[2]\n",
    "sbj = teach_data_clean[\"Teacher's  Information\"].iloc[3]\n",
    "cla_sz = teach_data_clean[\"Teacher's  Information\"].iloc[4]\n",
    "cla_szb = teach_data_clean[\"Teacher's  Information\"].iloc[5]\n",
    "cla_szg = teach_data_clean[\"Teacher's  Information\"].iloc[6]\n",
    "sch_t = teach_data_clean[\"Teacher's  Information\"].iloc[7]\n",
    "act_t = teach_data_clean[\"Teacher's  Information\"].iloc[8]\n",
    "seg_len = teach_data_clean[\"Teacher's  Information\"].iloc[9]\n",
    "\n",
    "\n",
    "# Create the required details column.\n",
    "teach_data_clean['School ID'] = sch_id\n",
    "teach_data_clean['TEACHER ID'] = tch_id\n",
    "teach_data_clean['Classroom ID'] = cdr_id\n",
    "teach_data_clean['Subject'] = sbj\n",
    "teach_data_clean['Class Size'] = cla_sz\n",
    "teach_data_clean['CLASS SIZE(Boys)'] = cla_szb\n",
    "teach_data_clean['CLASS SIZE(Girls)'] = cla_szg\n",
    "teach_data_clean['SCHEDULED TIME'] = sch_t\n",
    "teach_data_clean['ACTUAL TIME'] = act_t\n",
    "teach_data_clean['SEGMENT LENGTH'] = seg_len\n",
    "\n",
    "print(teach_data_clean.head())"
   ]
  },
  {
   "cell_type": "code",
   "execution_count": 21,
   "metadata": {},
   "outputs": [
    {
     "name": "stdout",
     "output_type": "stream",
     "text": [
      "Comment:\n",
      " >> Next step is to sort, group and separate the metadata in Metrics column. \n",
      "\n"
     ]
    }
   ],
   "source": [
    "# Comment.\n",
    "print('Comment:\\n', '>> Next step is to sort, group and separate the metadata in Metrics column.', '\\n')"
   ]
  },
  {
   "cell_type": "code",
   "execution_count": 6,
   "metadata": {},
   "outputs": [],
   "source": [
    "# Create a list of sub group metrics\n",
    "metr_grp1 = [\"Time on learning\", \"Autonomy\", \"Perserverance\", \"Social & Collaborative Skills\", \"Lesson Facilitation\",\\\n",
    "    \"Checks for Understanding\", \"Feedback\", \"Critical Thinking\", \"Supportive Learning Environment\", \"Positive Behavioural Expectations\"]\n",
    "\n",
    "# Create Time on learning to capture the required metrics  from the metrics column.\n",
    "t_l = \"Teacher provides learning activity for most students- 1st Snapshot|Teacher provides learning activity for most students- 2nd Snapsho|Teacher provides learning activity for most students- 3rd Snapshot|Students are on task- 1st Snapsho|Students are on task- 2nd Snapsho|Students are on task- 3rd Snapshot|Students are actively participating in learning tasks- 1st Snapshot|Students are actively participating in learning tasks- 2nd Snapshot|Students are actively participating in learning tasks- 3rd Snapshot\"\n",
    "\n",
    "# Create Autonomy to capture the required metrics  from the metrics column.\n",
    "aut = \"The teacher provides students with cho|The teacher provides students with opportunities to take on roles in the classr|The students volunteer to participate in the classr\"\n",
    "\n",
    "# Create Perserverance to capture the required metrics  from the metrics column.\n",
    "pre = \"The teacher acknowledges students’ effor|The teacher has a positive attitude toward students’ challeng|The teacher encourages goal sett\"\n",
    "\n",
    "# Create Social & Collaborative Skills to capture the required metrics  from the metrics column.\n",
    "s_c = \"The teacher promotes students’ collaboration through peer interactio|The teacher promotes students’ interpersonal skil|Students collaborate with one another through peer interacti\"\n",
    "\n",
    "# Create Lesson Facilitation to capture the required metrics  from the metrics column.\n",
    "f_c = \"The teacher redirects misbehavior and focuses on an expected behavior, rather than the undesired behav|The teacher explains content using multiple forms of representati|The teacher makes connections in the lesson that relate to other content knowledge, students’ daily lives, or real-world iss|The teacher models by demonstrating or thinking alo\"\n",
    "\n",
    "# Create Checks for Understanding to capture the required metrics  from the metrics column.\n",
    "c_u = \"The teacher uses questions, prompts or other strategies to determine students’ level of understandi|The teacher monitors most students during independent/group wor|The teacher adjusts teaching to the level of studen\"\n",
    "\n",
    "# Create Feedback to capture the required metrics  from the metrics column.\n",
    "fd = \"The teacher provides specific comments or prompts that help clarify students’ misunderstandin|The teacher provides specific comments or prompts that help identify students’ success\"\n",
    "\n",
    "# Create Critical Thinking to capture the required metrics  from the metrics column.\n",
    "c_tt = \"The teacher asks open-ended questio|The teacher provides thinking task|Students perform thinking tas|Students explain their thinking to the teacher or ask open-ended questio\"\n",
    "\n",
    "# Create Supportive Learning Environment to capture the required metrics  from the metrics column.\n",
    "s_ln = \"The teacher treats all students respectful|The teacher uses positive language with student|The teacher responds to students’ nee|The teacher does not exhibit bias and challenges stereotypes in the classroom-Gend|The teacher does not exhibit bias and challenges stereotypes in the classroom-Disabili|The teacher does not exhibit bias and challenges stereotypes in the classro\"\n",
    "\n",
    "\n",
    "# Create Positive Behavioural Expectations to capture the required metrics  from the metrics column.\n",
    "pbe = \"The teacher sets clear behavioral expectations for classroom activiti|The teacher acknowledges positive student behavio|The teacher redirects misbehavior and focuses on an expected behavior, rather than the undesired behavi\"\n",
    "\n"
   ]
  },
  {
   "cell_type": "code",
   "execution_count": null,
   "metadata": {},
   "outputs": [],
   "source": [
    "# Create conditions for values for metrics Grp to be created.\n",
    "conditions = [\n",
    "    (teach_data_clean['Metrics'].str.contains(t_l)),\n",
    "    (teach_data_clean['Metrics'].str.contains(aut)),\n",
    "    (teach_data_clean['Metrics'].str.contains(pre)),\n",
    "    (teach_data_clean['Metrics'].str.contains(s_c)),\n",
    "    (teach_data_clean['Metrics'].str.contains(f_c)),\n",
    "    (teach_data_clean['Metrics'].str.contains(c_u)),\n",
    "    (teach_data_clean['Metrics'].str.contains(fd)),\n",
    "    (teach_data_clean['Metrics'].str.contains(c_tt)),\n",
    "    (teach_data_clean['Metrics'].str.contains(s_ln)),\n",
    "    (teach_data_clean['Metrics'].str.contains(pbe))\n",
    "]\n",
    "\n",
    "# Apply the conditions to create the metrics group.\n",
    "teach_data_clean['Metrics Sub-grp1'] = np.select(conditions, metr_grp1, default='Other')\n"
   ]
  },
  {
   "cell_type": "code",
   "execution_count": 24,
   "metadata": {},
   "outputs": [
    {
     "name": "stdout",
     "output_type": "stream",
     "text": [
      "Comment:\n",
      " >> Next step is to validate data. \n",
      "\n"
     ]
    }
   ],
   "source": [
    "# Comment.\n",
    "print('Comment:\\n', '>> Next step is to validate data.', '\\n')"
   ]
  },
  {
   "cell_type": "code",
   "execution_count": 8,
   "metadata": {},
   "outputs": [
    {
     "name": "stdout",
     "output_type": "stream",
     "text": [
      "Unique values in metrics group:\n",
      " ['Other' 'Time on learning' 'Supportive Learning Environment'\n",
      " 'Positive Behavioural Expectations' 'Lesson Facilitation'\n",
      " 'Checks for Understanding' 'Feedback' 'Critical Thinking' 'Autonomy'\n",
      " 'Perserverance' 'Social & Collaborative Skills'] \n",
      "\n",
      "Unique values in metric where metrics subgroup is Other:\n",
      " ['Time on Task' 'Time on learning' 'overall score' 'Classroom Culture'\n",
      " 'Supportive Learning Environment' 'Final element score'\n",
      " 'Positive Behavioural Expectations ' 'Final element score ' 'Instruction'\n",
      " 'Lesson Facilitation' 'Checks for Understanding' 'Feedback'\n",
      " 'Critical Thinking' 'Socioemotional Skills ' 'Autonomy' 'Perserverance'\n",
      " 'Social & Collaborative Skills ' 'Overall TEACH Result by teacher']\n"
     ]
    }
   ],
   "source": [
    "# Get the unique values in the metrics group.\n",
    "print('Unique values in metrics group:\\n', teach_data_clean['Metrics Sub-grp1'].unique(), '\\n')\n",
    "\n",
    "# Get the unique values in the metrics where the metrics group is other.\n",
    "other = teach_data_clean[teach_data_clean['Metrics Sub-grp1'] == 'Other']\n",
    "print('Unique values in metric where metrics subgroup is Other:\\n', other['Metrics'].unique())"
   ]
  },
  {
   "cell_type": "code",
   "execution_count": 9,
   "metadata": {},
   "outputs": [],
   "source": [
    "# Remove the rows where the metrics group is other.\n",
    "teach_data_clean1 = teach_data_clean[teach_data_clean['Metrics Sub-grp1'] != 'Other']"
   ]
  },
  {
   "cell_type": "code",
   "execution_count": 10,
   "metadata": {},
   "outputs": [],
   "source": [
    "# Create a list of sub group 2 metrics\n",
    "metr_grp2 = [\"Classroom Culture\", \"Instruction\", \"Socioemotional Skills\", \"Time on learning\"]\n",
    "\n",
    "# Create Classroom Culture to capture the required metrics  from the metrics subgrp1 column.\n",
    "cl_c = \"Supportive Learning Environme|Positive Behavioural Expectatio\"\n",
    "\n",
    "# Create Instruction to capture the required metrics  from the metrics subgrp1 column.\n",
    "ins = \"Lesson Facilitatio|Checks for Understandi|Feedba|Critical Thinki\"\n",
    "\n",
    "# Create Socioemotional Skills to capture the required metrics  from the metrics subgrp1 column.\n",
    "s_sk = \"Autono|Perserveranc|Social & Collaborative Skil\"\n",
    "\n",
    "# Create Time on learning to capture the required metrics  from the metrics subgrp1 column.\n",
    "tol = \"Time on learni\""
   ]
  },
  {
   "cell_type": "code",
   "execution_count": null,
   "metadata": {},
   "outputs": [],
   "source": [
    "# Create conditions for values for metrics subGrp2 to be created.\n",
    "conditions_grp2 = [\n",
    "    (teach_data_clean1['Metrics Sub-grp1'].str.contains(cl_c)),\n",
    "    (teach_data_clean1['Metrics Sub-grp1'].str.contains(ins)),\n",
    "    (teach_data_clean1['Metrics Sub-grp1'].str.contains(s_sk)),\n",
    "    (teach_data_clean1['Metrics Sub-grp1'].str.contains(tol))\n",
    "]\n",
    "\n",
    "# Apply the conditions to create the metrics group.\n",
    "teach_data_clean1['Metrics Sub-grp2'] = np.select(conditions_grp2, metr_grp2, default='Other')"
   ]
  },
  {
   "cell_type": "code",
   "execution_count": 12,
   "metadata": {},
   "outputs": [
    {
     "name": "stdout",
     "output_type": "stream",
     "text": [
      "Unique values in metrics subgrp2:\n",
      " ['Time on learning' 'Classroom Culture' 'Instruction'\n",
      " 'Socioemotional Skills'] \n",
      "\n",
      "Unique values in metric where metrics subgroup is Other:\n",
      " []\n"
     ]
    }
   ],
   "source": [
    "# Get the unique values in the metrics subgrp2.\n",
    "print('Unique values in metrics subgrp2:\\n', teach_data_clean1['Metrics Sub-grp2'].unique(), '\\n')\n",
    "\n",
    "# Get the unique values in the metrics where the metrics group is other.\n",
    "other2 = teach_data_clean1[teach_data_clean1['Metrics Sub-grp2'] == 'Other']\n",
    "print('Unique values in metric where metrics subgroup is Other:\\n', other2['Metrics'].unique())"
   ]
  },
  {
   "cell_type": "code",
   "execution_count": 13,
   "metadata": {},
   "outputs": [],
   "source": [
    "# Create a list of metrics group.\n",
    "metr_grp = [\"Time on Task\",\t\"QUALITY OF TEACHING PRACTICES\"]\n",
    "\n",
    "# Create Time on Task to capture the required metrics  from the metrics subgrp2 column.\n",
    "tot = \"Time on learni\"\n",
    "\n",
    "# Create QUALITY OF TEACHING PRACTICES to capture the required metrics  from the metrics subgrp2 column.\n",
    "qot = \"Classroom Cultu|Instructi|Socioemotional Skil\"\n"
   ]
  },
  {
   "cell_type": "code",
   "execution_count": null,
   "metadata": {},
   "outputs": [],
   "source": [
    "# Create conditions for values for metrics subGrp2 to be created.\n",
    "conditions_grp = [\n",
    "    (teach_data_clean1['Metrics Sub-grp2'].str.contains(tot)),\n",
    "    (teach_data_clean1['Metrics Sub-grp2'].str.contains(qot))\n",
    "]\n",
    "\n",
    "# Apply the conditions to create the metrics group.\n",
    "teach_data_clean1['Metrics Group'] = np.select(conditions_grp, metr_grp, default='Other')\n"
   ]
  },
  {
   "cell_type": "code",
   "execution_count": 15,
   "metadata": {},
   "outputs": [
    {
     "name": "stdout",
     "output_type": "stream",
     "text": [
      "Unique values in metrics group:\n",
      " ['Time on Task' 'QUALITY OF TEACHING PRACTICES'] \n",
      "\n",
      "Unique values in metric where metrics subgroup is Other:\n",
      " []\n"
     ]
    }
   ],
   "source": [
    "# Get the unique values in the metrics group.\n",
    "print('Unique values in metrics group:\\n', teach_data_clean1['Metrics Group'].unique(), '\\n')\n",
    "\n",
    "# Get the unique values in the metrics subgrp2 where the metrics group is other.\n",
    "other3 = teach_data_clean1[teach_data_clean1['Metrics Group'] == 'Other']\n",
    "print('Unique values in metric where metrics subgroup is Other:\\n', other3['Metrics Sub-grp2'].unique())"
   ]
  },
  {
   "cell_type": "code",
   "execution_count": 16,
   "metadata": {},
   "outputs": [
    {
     "name": "stdout",
     "output_type": "stream",
     "text": [
      "Index(['Required Details', 'Teacher's  Information', 'fig', 'Metrics', 'Score',\n",
      "       'School ID', 'TEACHER ID', 'Classroom ID', 'Subject', 'Class Size',\n",
      "       'CLASS SIZE(Boys)', 'CLASS SIZE(Girls)', 'SCHEDULED TIME',\n",
      "       'ACTUAL TIME', 'SEGMENT LENGTH', 'Metrics Sub-grp1', 'Metrics Sub-grp2',\n",
      "       'Metrics Group'],\n",
      "      dtype='object')\n"
     ]
    }
   ],
   "source": [
    "# Get the columns in the dataframe.\n",
    "print(teach_data_clean1.columns)"
   ]
  },
  {
   "cell_type": "code",
   "execution_count": 17,
   "metadata": {},
   "outputs": [
    {
     "name": "stdout",
     "output_type": "stream",
     "text": [
      "    School ID  TEACHER ID Classroom ID  Subject  Class Size  CLASS SIZE(Boys)  \\\n",
      "2  Kingsfield       10012        Godek  English          20                 8   \n",
      "3  Kingsfield       10012        Godek  English          20                 8   \n",
      "4  Kingsfield       10012        Godek  English          20                 8   \n",
      "6  Kingsfield       10012        Godek  English          20                 8   \n",
      "7  Kingsfield       10012        Godek  English          20                 8   \n",
      "\n",
      "   CLASS SIZE(Girls) SCHEDULED TIME ACTUAL TIME  SEGMENT LENGTH Metrics Group  \\\n",
      "2                 12       12:00:00    12:30:00              30  Time on Task   \n",
      "3                 12       12:00:00    12:30:00              30  Time on Task   \n",
      "4                 12       12:00:00    12:30:00              30  Time on Task   \n",
      "6                 12       12:00:00    12:30:00              30  Time on Task   \n",
      "7                 12       12:00:00    12:30:00              30  Time on Task   \n",
      "\n",
      "   Metrics Sub-grp2  Metrics Sub-grp1  \\\n",
      "2  Time on learning  Time on learning   \n",
      "3  Time on learning  Time on learning   \n",
      "4  Time on learning  Time on learning   \n",
      "6  Time on learning  Time on learning   \n",
      "7  Time on learning  Time on learning   \n",
      "\n",
      "                                             Metrics  Score  \n",
      "2  Teacher provides learning activity for most st...    1.0  \n",
      "3  Teacher provides learning activity for most st...    1.0  \n",
      "4  Teacher provides learning activity for most st...    1.0  \n",
      "6            Students are on task- 1st Snapshot (4m)    1.0  \n",
      "7            Students are on task- 2nd Snapshot (9m)    0.0  \n"
     ]
    }
   ],
   "source": [
    "# Drop the columns('Required Details', 'Teacher's  Information', 'fig') that are not required.\n",
    "structured_data = teach_data_clean1.drop(['Required Details', \"Teacher's  Information\", 'fig'], axis=1)\n",
    "\n",
    "# Rearrange the columns in the dataframe.\n",
    "desired_column_ord = ['School ID', 'TEACHER ID', 'Classroom ID', 'Subject', 'Class Size',\n",
    "       'CLASS SIZE(Boys)', 'CLASS SIZE(Girls)', 'SCHEDULED TIME',\n",
    "       'ACTUAL TIME', 'SEGMENT LENGTH','Metrics Group', 'Metrics Sub-grp2', 'Metrics Sub-grp1', 'Metrics', 'Score']\n",
    "\n",
    "structured_data = structured_data[desired_column_ord]\n",
    "\n",
    "print(structured_data.head())"
   ]
  },
  {
   "cell_type": "code",
   "execution_count": 18,
   "metadata": {},
   "outputs": [],
   "source": [
    "# Export the data to a Excel file.\n",
    "structured_data.to_excel('Teach_Sec.xlsx', index=False)"
   ]
  }
 ],
 "metadata": {
  "kernelspec": {
   "display_name": "Python 3",
   "language": "python",
   "name": "python3"
  },
  "language_info": {
   "codemirror_mode": {
    "name": "ipython",
    "version": 3
   },
   "file_extension": ".py",
   "mimetype": "text/x-python",
   "name": "python",
   "nbconvert_exporter": "python",
   "pygments_lexer": "ipython3",
   "version": "3.7.16"
  },
  "orig_nbformat": 4
 },
 "nbformat": 4,
 "nbformat_minor": 2
}
