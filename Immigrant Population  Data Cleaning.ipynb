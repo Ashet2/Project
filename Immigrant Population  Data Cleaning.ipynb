{
 "cells": [
  {
   "cell_type": "code",
   "execution_count": 120,
   "metadata": {},
   "outputs": [],
   "source": [
    "# Import libraries\n",
    "import pandas as pd\n",
    "import numpy as np\n",
    "import seaborn as sns\n",
    "import matplotlib.pyplot as plt\n",
    "from scipy.stats import norm\n",
    "\n",
    "# Import data\n",
    "immigration_data = pd.read_csv('98100349.csv')\n"
   ]
  },
  {
   "cell_type": "code",
   "execution_count": 121,
   "metadata": {},
   "outputs": [
    {
     "name": "stdout",
     "output_type": "stream",
     "text": [
      "Data Shape:\n",
      " (4541400, 24) \n",
      "\n",
      "<class 'pandas.core.frame.DataFrame'>\n",
      "RangeIndex: 4541400 entries, 0 to 4541399\n",
      "Data columns (total 24 columns):\n",
      " #   Column                                                   Dtype  \n",
      "---  ------                                                   -----  \n",
      " 0   REF_DATE                                                 int64  \n",
      " 1   GEO                                                      object \n",
      " 2   DGUID                                                    object \n",
      " 3   Age (15C)                                                object \n",
      " 4   Gender (3)                                               object \n",
      " 5   Statistics (2)                                           object \n",
      " 6   Place of birth (290)                                     object \n",
      " 7   Coordinate                                               object \n",
      " 8   Period of immigration (8):Total immigrant population[1]  float64\n",
      " 9   Symbol                                                   float64\n",
      " 10  Period of immigration (8):Before 1980[2]                 float64\n",
      " 11  Symbol.1                                                 float64\n",
      " 12  Period of immigration (8):1980 to 1990[3]                float64\n",
      " 13  Symbol.2                                                 float64\n",
      " 14  Period of immigration (8):1991 to 2000[4]                float64\n",
      " 15  Symbol.3                                                 float64\n",
      " 16  Period of immigration (8):2001 to 2005[5]                float64\n",
      " 17  Symbol.4                                                 float64\n",
      " 18  Period of immigration (8):2006 to 2010[6]                float64\n",
      " 19  Symbol.5                                                 float64\n",
      " 20  Period of immigration (8):2011 to 2015[7]                float64\n",
      " 21  Symbol.6                                                 float64\n",
      " 22  Period of immigration (8):2016 to 2021[8]                float64\n",
      " 23  Symbol.7                                                 float64\n",
      "dtypes: float64(16), int64(1), object(7)\n",
      "memory usage: 831.6+ MB\n",
      "Data Info:\n",
      " None\n"
     ]
    }
   ],
   "source": [
    "# Explore data shape\n",
    "print('Data Shape:\\n', immigration_data.shape, '\\n')\n",
    "\n",
    "# Print a summary of non-missing values and data types in the immigration_data DataFrame\n",
    "print('Data Info:\\n',immigration_data.info())\n"
   ]
  },
  {
   "cell_type": "code",
   "execution_count": 122,
   "metadata": {},
   "outputs": [
    {
     "name": "stdout",
     "output_type": "stream",
     "text": [
      "Numerical Columns Stat:\n",
      "         REF_DATE  Period of immigration (8):Total immigrant population[1]  \\\n",
      "count  4541400.0                                       4.541400e+06         \n",
      "mean      2021.0                                       2.422172e+02         \n",
      "std          0.0                                       1.543089e+04         \n",
      "min       2021.0                                       0.000000e+00         \n",
      "25%       2021.0                                       0.000000e+00         \n",
      "50%       2021.0                                       0.000000e+00         \n",
      "75%       2021.0                                       0.000000e+00         \n",
      "max       2021.0                                       8.361505e+06         \n",
      "\n",
      "       Symbol  Period of immigration (8):Before 1980[2]  Symbol.1  \\\n",
      "count     0.0                              4.541400e+06       0.0   \n",
      "mean      NaN                              4.090331e+01       NaN   \n",
      "std       NaN                              2.990485e+03       NaN   \n",
      "min       NaN                              0.000000e+00       NaN   \n",
      "25%       NaN                              0.000000e+00       NaN   \n",
      "50%       NaN                              0.000000e+00       NaN   \n",
      "75%       NaN                              0.000000e+00       NaN   \n",
      "max       NaN                              1.540610e+06       NaN   \n",
      "\n",
      "       Period of immigration (8):1980 to 1990[3]  Symbol.2  \\\n",
      "count                               4.541400e+06       0.0   \n",
      "mean                                2.640760e+01       NaN   \n",
      "std                                 1.771561e+03       NaN   \n",
      "min                                 0.000000e+00       NaN   \n",
      "25%                                 0.000000e+00       NaN   \n",
      "50%                                 0.000000e+00       NaN   \n",
      "75%                                 0.000000e+00       NaN   \n",
      "max                                 9.243150e+05       NaN   \n",
      "\n",
      "       Period of immigration (8):1991 to 2000[4]  Symbol.3  \\\n",
      "count                               4.541400e+06       0.0   \n",
      "mean                                4.535348e+01       NaN   \n",
      "std                                 3.137436e+03       NaN   \n",
      "min                                 0.000000e+00       NaN   \n",
      "25%                                 0.000000e+00       NaN   \n",
      "50%                                 0.000000e+00       NaN   \n",
      "75%                                 0.000000e+00       NaN   \n",
      "max                                 1.511475e+06       NaN   \n",
      "\n",
      "       Period of immigration (8):2001 to 2005[5]  Symbol.4  \\\n",
      "count                               4.541400e+06       0.0   \n",
      "mean                                2.788643e+01       NaN   \n",
      "std                                 1.905622e+03       NaN   \n",
      "min                                 0.000000e+00       NaN   \n",
      "25%                                 0.000000e+00       NaN   \n",
      "50%                                 0.000000e+00       NaN   \n",
      "75%                                 0.000000e+00       NaN   \n",
      "max                                 9.112400e+05       NaN   \n",
      "\n",
      "       Period of immigration (8):2006 to 2010[6]  Symbol.5  \\\n",
      "count                               4.541400e+06       0.0   \n",
      "mean                                3.075931e+01       NaN   \n",
      "std                                 1.987300e+03       NaN   \n",
      "min                                 0.000000e+00       NaN   \n",
      "25%                                 0.000000e+00       NaN   \n",
      "50%                                 0.000000e+00       NaN   \n",
      "75%                                 0.000000e+00       NaN   \n",
      "max                                 1.019285e+06       NaN   \n",
      "\n",
      "       Period of immigration (8):2011 to 2015[7]  Symbol.6  \\\n",
      "count                               4.541400e+06       0.0   \n",
      "mean                                3.278499e+01       NaN   \n",
      "std                                 2.099306e+03       NaN   \n",
      "min                                 0.000000e+00       NaN   \n",
      "25%                                 0.000000e+00       NaN   \n",
      "50%                                 0.000000e+00       NaN   \n",
      "75%                                 0.000000e+00       NaN   \n",
      "max                                 1.126330e+06       NaN   \n",
      "\n",
      "       Period of immigration (8):2016 to 2021[8]  Symbol.7  \n",
      "count                               4.541400e+06       0.0  \n",
      "mean                                3.774967e+01       NaN  \n",
      "std                                 2.456686e+03       NaN  \n",
      "min                                 0.000000e+00       NaN  \n",
      "25%                                 0.000000e+00       NaN  \n",
      "50%                                 0.000000e+00       NaN  \n",
      "75%                                 0.000000e+00       NaN  \n",
      "max                                 1.328240e+06       NaN  \n"
     ]
    }
   ],
   "source": [
    "# Print summary statistics for numerical columns in immigration_data DataFrame\n",
    "print('Numerical Columns Stat:\\n', immigration_data.describe())"
   ]
  },
  {
   "cell_type": "code",
   "execution_count": 123,
   "metadata": {},
   "outputs": [
    {
     "name": "stdout",
     "output_type": "stream",
     "text": [
      "Comment:\n",
      " >> immigration_data contains 4.5 million of immigration data including Geo Locations, Place of Birth Age,\n",
      " Gender and immigration period from 1980 through 2021.\n",
      " >> If you looked very closely, you might have noticed that the symbol.. columns are empty.\n",
      " >> This is because the numerical data are in whole number and does not require any symbol.\n",
      " >> We need to clean the data by removing the symbol.. columns\n"
     ]
    }
   ],
   "source": [
    "# Comment.\n",
    "print('Comment:\\n', '>> immigration_data contains 4.5 million of immigration data including Geo Locations, Place of Birth Age,\\n',\n",
    "      'Gender and immigration period from 1980 through 2021.\\n',\n",
    "      '>> If you looked very closely, you might have noticed that the symbol.. columns are empty.\\n',\n",
    "      '>> This is because the numerical data are in whole number and does not require any symbol.\\n',\n",
    "      '>> We need to clean the data by removing the symbol.. columns')"
   ]
  },
  {
   "cell_type": "code",
   "execution_count": 124,
   "metadata": {},
   "outputs": [
    {
     "name": "stdout",
     "output_type": "stream",
     "text": [
      "Data Shape:\n",
      " (4541400, 13) \n",
      "\n",
      "<class 'pandas.core.frame.DataFrame'>\n",
      "RangeIndex: 4541400 entries, 0 to 4541399\n",
      "Data columns (total 13 columns):\n",
      " #   Column                                     Dtype  \n",
      "---  ------                                     -----  \n",
      " 0   GEO                                        object \n",
      " 1   DGUID                                      object \n",
      " 2   Age (15C)                                  object \n",
      " 3   Gender (3)                                 object \n",
      " 4   Statistics (2)                             object \n",
      " 5   Place of birth (290)                       object \n",
      " 6   Period of immigration (8):Before 1980[2]   float64\n",
      " 7   Period of immigration (8):1980 to 1990[3]  float64\n",
      " 8   Period of immigration (8):1991 to 2000[4]  float64\n",
      " 9   Period of immigration (8):2001 to 2005[5]  float64\n",
      " 10  Period of immigration (8):2006 to 2010[6]  float64\n",
      " 11  Period of immigration (8):2011 to 2015[7]  float64\n",
      " 12  Period of immigration (8):2016 to 2021[8]  float64\n",
      "dtypes: float64(7), object(6)\n",
      "memory usage: 450.4+ MB\n",
      "Data Info:\n",
      " None \n",
      "\n",
      "Numerical Columns Stat:\n",
      "        Period of immigration (8):Before 1980[2]  \\\n",
      "count                              4.541400e+06   \n",
      "mean                               4.090331e+01   \n",
      "std                                2.990485e+03   \n",
      "min                                0.000000e+00   \n",
      "25%                                0.000000e+00   \n",
      "50%                                0.000000e+00   \n",
      "75%                                0.000000e+00   \n",
      "max                                1.540610e+06   \n",
      "\n",
      "       Period of immigration (8):1980 to 1990[3]  \\\n",
      "count                               4.541400e+06   \n",
      "mean                                2.640760e+01   \n",
      "std                                 1.771561e+03   \n",
      "min                                 0.000000e+00   \n",
      "25%                                 0.000000e+00   \n",
      "50%                                 0.000000e+00   \n",
      "75%                                 0.000000e+00   \n",
      "max                                 9.243150e+05   \n",
      "\n",
      "       Period of immigration (8):1991 to 2000[4]  \\\n",
      "count                               4.541400e+06   \n",
      "mean                                4.535348e+01   \n",
      "std                                 3.137436e+03   \n",
      "min                                 0.000000e+00   \n",
      "25%                                 0.000000e+00   \n",
      "50%                                 0.000000e+00   \n",
      "75%                                 0.000000e+00   \n",
      "max                                 1.511475e+06   \n",
      "\n",
      "       Period of immigration (8):2001 to 2005[5]  \\\n",
      "count                               4.541400e+06   \n",
      "mean                                2.788643e+01   \n",
      "std                                 1.905622e+03   \n",
      "min                                 0.000000e+00   \n",
      "25%                                 0.000000e+00   \n",
      "50%                                 0.000000e+00   \n",
      "75%                                 0.000000e+00   \n",
      "max                                 9.112400e+05   \n",
      "\n",
      "       Period of immigration (8):2006 to 2010[6]  \\\n",
      "count                               4.541400e+06   \n",
      "mean                                3.075931e+01   \n",
      "std                                 1.987300e+03   \n",
      "min                                 0.000000e+00   \n",
      "25%                                 0.000000e+00   \n",
      "50%                                 0.000000e+00   \n",
      "75%                                 0.000000e+00   \n",
      "max                                 1.019285e+06   \n",
      "\n",
      "       Period of immigration (8):2011 to 2015[7]  \\\n",
      "count                               4.541400e+06   \n",
      "mean                                3.278499e+01   \n",
      "std                                 2.099306e+03   \n",
      "min                                 0.000000e+00   \n",
      "25%                                 0.000000e+00   \n",
      "50%                                 0.000000e+00   \n",
      "75%                                 0.000000e+00   \n",
      "max                                 1.126330e+06   \n",
      "\n",
      "       Period of immigration (8):2016 to 2021[8]  \n",
      "count                               4.541400e+06  \n",
      "mean                                3.774967e+01  \n",
      "std                                 2.456686e+03  \n",
      "min                                 0.000000e+00  \n",
      "25%                                 0.000000e+00  \n",
      "50%                                 0.000000e+00  \n",
      "75%                                 0.000000e+00  \n",
      "max                                 1.328240e+06  \n"
     ]
    }
   ],
   "source": [
    "# Select the columns that we need.\n",
    "immigration_data_clean = immigration_data[['GEO','DGUID','Age (15C)', 'Gender (3)', 'Statistics (2)', 'Place of birth (290)',\\\n",
    "    'Period of immigration (8):Before 1980[2]','Period of immigration (8):1980 to 1990[3]', 'Period of immigration (8):1991 to 2000[4]',\\\n",
    "        'Period of immigration (8):2001 to 2005[5]','Period of immigration (8):2006 to 2010[6]', 'Period of immigration (8):2011 to 2015[7]',\\\n",
    "            'Period of immigration (8):2016 to 2021[8]']]\n",
    "\n",
    "# Explore the data in immigration_data_clean.\n",
    "print('Data Shape:\\n', immigration_data_clean.shape, '\\n')\n",
    "print('Data Info:\\n',immigration_data_clean.info(), '\\n')\n",
    "print('Numerical Columns Stat:\\n', immigration_data_clean.describe())"
   ]
  },
  {
   "cell_type": "code",
   "execution_count": 125,
   "metadata": {},
   "outputs": [
    {
     "name": "stdout",
     "output_type": "stream",
     "text": [
      "Comment:\n",
      " >> The number of columns has been reduced from 22 to 13.\n",
      " >> Lets explore the data further by looking at the unique values in each column.\n",
      "\n"
     ]
    }
   ],
   "source": [
    "# Comment.\n",
    "print('Comment:\\n', '>> The number of columns has been reduced from 22 to 13.\\n',\n",
    "      '>> Lets explore the data further by looking at the unique values in each column.\\n')"
   ]
  },
  {
   "cell_type": "code",
   "execution_count": 126,
   "metadata": {},
   "outputs": [
    {
     "name": "stdout",
     "output_type": "stream",
     "text": [
      "The number of unique vqlues in non numeric columns:\n",
      "\n",
      "The number of unique values in GEO: 174 \n",
      "\n",
      "The number of unique vqlues in non numeric columns:\n",
      "\n",
      "The number of unique values in DGUID: 174 \n",
      "\n",
      "The number of unique vqlues in non numeric columns:\n",
      "\n",
      "The number of unique values in Age (15C): 15 \n",
      "\n",
      "The number of unique vqlues in non numeric columns:\n",
      "\n",
      "The number of unique values in Gender (3): 3 \n",
      "\n",
      "The number of unique vqlues in non numeric columns:\n",
      "\n",
      "The number of unique values in Statistics (2): 2 \n",
      "\n",
      "The number of unique vqlues in non numeric columns:\n",
      "\n",
      "The number of unique values in Place of birth (290): 290 \n",
      "\n"
     ]
    }
   ],
   "source": [
    "# Filter the DataFrame for object columns only\n",
    "non_numeric = immigration_data_clean.select_dtypes('object')\n",
    "\n",
    "# Loop through columns.\n",
    "for col in non_numeric.columns:\n",
    "    # Select unique values in column\n",
    "    print('The number of unique vqlues in non numeric columns:\\n')\n",
    "    print(f'The number of unique values in {col}:', non_numeric[col].nunique(), '\\n')\n",
    "\n"
   ]
  },
  {
   "cell_type": "code",
   "execution_count": 127,
   "metadata": {},
   "outputs": [
    {
     "name": "stdout",
     "output_type": "stream",
     "text": [
      "Unique Values in GEO Col:\n",
      " ['Canada' 'Newfoundland and Labrador' 'Corner Brook (CA), N.L.'\n",
      " 'Gander (CA), N.L.' 'Grand Falls-Windsor (CA), N.L.'\n",
      " \"St. John's (CMA), N.L.\" 'Prince Edward Island'\n",
      " 'Charlottetown (CA), P.E.I.' 'Summerside (CA), P.E.I.' 'Nova Scotia'\n",
      " 'Cape Breton (CA), N.S.' 'Halifax (CMA), N.S.' 'Kentville (CA), N.S.'\n",
      " 'New Glasgow (CA), N.S.' 'Truro (CA), N.S.' 'New Brunswick'\n",
      " 'Bathurst (CA), N.B.' 'Campbellton (CA), N.B./Que.'\n",
      " 'Campbellton (New Brunswick part) (CA), N.B.'\n",
      " 'Campbellton (Quebec part) (CA), Que.' 'Edmundston (CA), N.B.'\n",
      " 'Fredericton (CMA), N.B.' 'Miramichi (CA), N.B.' 'Moncton (CMA), N.B.'\n",
      " 'Saint John (CMA), N.B.' 'Quebec' 'Alma (CA), Que.' 'Amos (CA), Que.'\n",
      " 'Baie-Comeau (CA), Que.' 'Cowansville (CA), Que.'\n",
      " 'Dolbeau-Mistassini (CA), Que.' 'Drummondville (CMA), Que.'\n",
      " 'Granby (CA), Que.' 'Joliette (CA), Que.' 'Lachute (CA), Que.'\n",
      " 'Matane (CA), Que.' 'Montréal (CMA), Que.' 'Québec (CMA), Que.'\n",
      " 'Rimouski (CA), Que.' 'Rivière-du-Loup (CA), Que.'\n",
      " 'Rouyn-Noranda (CA), Que.' 'Saguenay (CMA), Que.'\n",
      " 'Saint-Georges (CA), Que.' 'Saint-Hyacinthe (CA), Que.'\n",
      " 'Sainte-Agathe-des-Monts (CA), Que.' 'Sainte-Marie (CA), Que.'\n",
      " 'Salaberry-de-Valleyfield (CA), Que.' 'Sept-Îles (CA), Que.'\n",
      " 'Shawinigan (CA), Que.' 'Sherbrooke (CMA), Que.' 'Sorel-Tracy (CA), Que.'\n",
      " 'Thetford Mines (CA), Que.' 'Trois-Rivières (CMA), Que.'\n",
      " \"Val-d'Or (CA), Que.\" 'Victoriaville (CA), Que.' 'Ontario'\n",
      " 'Barrie (CMA), Ont.' 'Belleville - Quinte West (CMA), Ont.'\n",
      " 'Brantford (CMA), Ont.' 'Brockville (CA), Ont.'\n",
      " 'Centre Wellington (CA), Ont.' 'Chatham-Kent (CA), Ont.'\n",
      " 'Cobourg (CA), Ont.' 'Collingwood (CA), Ont.' 'Cornwall (CA), Ont.'\n",
      " 'Elliot Lake (CA), Ont.' 'Essa (CA), Ont.' 'Greater Sudbury (CMA), Ont.'\n",
      " 'Guelph (CMA), Ont.' 'Hamilton (CMA), Ont.' 'Hawkesbury (CA), Ont./Que.'\n",
      " 'Hawkesbury (Ontario part) (CA), Ont.'\n",
      " 'Hawkesbury (Quebec part) (CA), Que.' 'Ingersoll (CA), Ont.'\n",
      " 'Kawartha Lakes (CA), Ont.' 'Kenora (CA), Ont.' 'Kingston (CMA), Ont.'\n",
      " 'Kitchener - Cambridge - Waterloo (CMA), Ont.' 'London (CMA), Ont.'\n",
      " 'Midland (CA), Ont.' 'Norfolk (CA), Ont.' 'North Bay (CA), Ont.'\n",
      " 'Orillia (CA), Ont.' 'Oshawa (CMA), Ont.'\n",
      " 'Ottawa - Gatineau (CMA), Ont./Que.'\n",
      " 'Ottawa - Gatineau (Ontario part) (CMA), Ont.'\n",
      " 'Ottawa - Gatineau (Quebec part) (CMA), Que.' 'Owen Sound (CA), Ont.'\n",
      " 'Pembroke (CA), Ont.' 'Petawawa (CA), Ont.' 'Peterborough (CMA), Ont.'\n",
      " 'Port Hope (CA), Ont.' 'Sarnia (CA), Ont.' 'Sault Ste. Marie (CA), Ont.'\n",
      " 'St. Catharines - Niagara (CMA), Ont.' 'Stratford (CA), Ont.'\n",
      " 'Thunder Bay (CMA), Ont.' 'Tillsonburg (CA), Ont.' 'Timmins (CA), Ont.'\n",
      " 'Toronto (CMA), Ont.' 'Wasaga Beach (CA), Ont.' 'Windsor (CMA), Ont.'\n",
      " 'Woodstock (CA), Ont.' 'Manitoba' 'Brandon (CA), Man.'\n",
      " 'Portage la Prairie (CA), Man.' 'Steinbach (CA), Man.'\n",
      " 'Thompson (CA), Man.' 'Winkler (CA), Man.' 'Winnipeg (CMA), Man.'\n",
      " 'Saskatchewan' 'Estevan (CA), Sask.' 'Moose Jaw (CA), Sask.'\n",
      " 'North Battleford (CA), Sask.' 'Prince Albert (CA), Sask.'\n",
      " 'Regina (CMA), Sask.' 'Saskatoon (CMA), Sask.'\n",
      " 'Swift Current (CA), Sask.' 'Weyburn (CA), Sask.' 'Yorkton (CA), Sask.'\n",
      " 'Alberta' 'Brooks (CA), Alta.' 'Calgary (CMA), Alta.'\n",
      " 'Camrose (CA), Alta.' 'Canmore (CA), Alta.' 'Edmonton (CMA), Alta.'\n",
      " 'Grande Prairie (CA), Alta.' 'High River (CA), Alta.'\n",
      " 'Lacombe (CA), Alta.' 'Lethbridge (CMA), Alta.'\n",
      " 'Lloydminster (CA), Alta./Sask.'\n",
      " 'Lloydminster (Alberta part) (CA), Alta.'\n",
      " 'Lloydminster (Saskatchewan part) (CA), Sask.' 'Medicine Hat (CA), Alta.'\n",
      " 'Okotoks (CA), Alta.' 'Red Deer (CMA), Alta.' 'Strathmore (CA), Alta.'\n",
      " 'Sylvan Lake (CA), Alta.' 'Wetaskiwin (CA), Alta.'\n",
      " 'Wood Buffalo (CA), Alta.' 'British Columbia'\n",
      " 'Abbotsford - Mission (CMA), B.C.' 'Campbell River (CA), B.C.'\n",
      " 'Chilliwack (CMA), B.C.' 'Courtenay (CA), B.C.' 'Cranbrook (CA), B.C.'\n",
      " 'Dawson Creek (CA), B.C.' 'Duncan (CA), B.C.' 'Fort St. John (CA), B.C.'\n",
      " 'Kamloops (CMA), B.C.' 'Kelowna (CMA), B.C.' 'Ladysmith (CA), B.C.'\n",
      " 'Nanaimo (CMA), B.C.' 'Nelson (CA), B.C.' 'Parksville (CA), B.C.'\n",
      " 'Penticton (CA), B.C.' 'Port Alberni (CA), B.C.'\n",
      " 'Powell River (CA), B.C.' 'Prince George (CA), B.C.'\n",
      " 'Prince Rupert (CA), B.C.' 'Quesnel (CA), B.C.' 'Salmon Arm (CA), B.C.'\n",
      " 'Squamish (CA), B.C.' 'Terrace (CA), B.C.' 'Trail (CA), B.C.'\n",
      " 'Vancouver (CMA), B.C.' 'Vernon (CA), B.C.' 'Victoria (CMA), B.C.'\n",
      " 'Williams Lake (CA), B.C.' 'Yukon' 'Whitehorse (CA), Y.T.'\n",
      " 'Northwest Territories' 'Yellowknife (CA), N.W.T.' 'Nunavut'] \n",
      "\n",
      "Count of values per Unique Values in GEO Col:\n",
      " Canada                            26100\n",
      "Cape Breton (CA), N.S.            26100\n",
      "Corner Brook (CA), N.L.           26100\n",
      "Gander (CA), N.L.                 26100\n",
      "Grand Falls-Windsor (CA), N.L.    26100\n",
      "                                  ...  \n",
      "Yukon                             26100\n",
      "Whitehorse (CA), Y.T.             26100\n",
      "Northwest Territories             26100\n",
      "Trail (CA), B.C.                  26100\n",
      "Nunavut                           26100\n",
      "Name: GEO, Length: 174, dtype: int64 \n",
      "\n"
     ]
    }
   ],
   "source": [
    "# Get the unique values in GEO column of immigration_data_clean.\n",
    "print('Unique Values in GEO Col:\\n', immigration_data_clean['GEO'].unique(), '\\n')\n",
    "\n",
    "# Count the values associated with each GEO in immigration_data_clean.\n",
    "print('Count of values per Unique Values in GEO Col:\\n', immigration_data_clean['GEO'].value_counts().sort_values(ascending=True), '\\n')"
   ]
  },
  {
   "cell_type": "code",
   "execution_count": 128,
   "metadata": {},
   "outputs": [
    {
     "name": "stdout",
     "output_type": "stream",
     "text": [
      "Comment:\n",
      " >> The GEO column contains 174 unique values.\n",
      " >> Each of the unique values appeared 26,100 times in the column.\n",
      " >> The GEO column contains the names of the province and territory in Canada(metadata).\n",
      " >> I need to separate the metadata from the data.\n",
      " >> I will create a new columns called Country, Province, and Locations and then populate it with the metadata in GEO column.\n",
      " >> I observed that the locations under each provinces end with the abbreviation of the province name.\n",
      " >> I will use this information to separate the metadata from the data.\n",
      "\n"
     ]
    }
   ],
   "source": [
    "# Comment.\n",
    "print('Comment:\\n', '>> The GEO column contains 174 unique values.\\n',\n",
    "      '>> Each of the unique values appeared 26,100 times in the column.\\n',\n",
    "      '>> The GEO column contains the names of the province and territory in Canada(metadata).\\n',\n",
    "      '>> I need to separate the metadata from the data.\\n',\n",
    "      '>> I will create a new columns called Country, Province, and Locations and then populate it with the metadata in GEO column.\\n',\n",
    "      '>> I observed that the locations under each provinces end with the abbreviation of the province name.\\n',\n",
    "      '>> I will use this information to separate the metadata from the data.\\n')"
   ]
  },
  {
   "cell_type": "code",
   "execution_count": 129,
   "metadata": {},
   "outputs": [],
   "source": [
    "# Create a list of province in Canada.\n",
    "province = [\"Newfoundland and Labrador\",\"Prince Edward Island\",\"Nova Scotia\",\"New Brunswick\",\"Quebec\",\"Ontario\",\n",
    "            \"Manitoba\",\"Saskatchewan\",\"Alberta\",\"British Columbia\",\"Yukon\",\"Northwest Territories\", \"Nunavut\"]\n",
    "\n",
    "# Create Newfoundland and Labrador to capture the locations under the province from the GEO column.\n",
    "n_l = \" N.L.\"\n",
    "\n",
    "# Create Prince Edward Island to capture the locations under the province from the GEO column.\n",
    "pei = \" P.E.I.\"\n",
    "\n",
    "# Create Nova Scotia to capture the locations under the province from the GEO column.\n",
    "ns = \" N.S.\"\n",
    "\n",
    "# Create New Brunswick to capture the locations under the province from the GEO column.\n",
    "nb = \" N.B.\"\n",
    "\n",
    "# Create Quebec to capture the locations under the province from the GEO column.\n",
    "qc = \" Que.\"\n",
    "\n",
    "# Create Ontario to capture the locations under the province from the GEO column.                    \n",
    "on = \" Ont.\"\n",
    "\n",
    "# Create Manitoba to capture the locations under the province from the GEO column.                                 \n",
    "man = \" Man.\"\n",
    "\n",
    "# Create Saskatchewan to capture the locations under the province from the GEO column.  \n",
    "sask = \" Sask.\"\n",
    "    \n",
    "# Create Alberta to capture the locations under the province from the GEO column.  \n",
    "alta = \" Alta.\"\n",
    "            \n",
    "# Create British Columbia to capture the locations under the province from the GEO column.\n",
    "bc = \" B.C.\"\n",
    "                \n",
    "# Create Yukon to capture the locations under the province from the GEO column.\n",
    "yt = \" Y.T.\"\n",
    "\n",
    "# Create Northwest Territories to capture the locations under the province from the GEO column.\n",
    "nwt = \" N.W.T.\"\n",
    "\n",
    "nnv = \"Nunavut\"\n",
    "\n",
    "\n"
   ]
  },
  {
   "cell_type": "code",
   "execution_count": null,
   "metadata": {},
   "outputs": [],
   "source": [
    "# Create conditions for values for locations in  province to be created.\n",
    "conditions = [\n",
    "    (immigration_data_clean['GEO'].str.contains(n_l)),\n",
    "    (immigration_data_clean['GEO'].str.contains(pei)),\n",
    "    (immigration_data_clean['GEO'].str.contains(ns)),\n",
    "    (immigration_data_clean['GEO'].str.contains(nb)),\n",
    "    (immigration_data_clean['GEO'].str.contains(qc)),\n",
    "    (immigration_data_clean['GEO'].str.contains(on)),\n",
    "    (immigration_data_clean['GEO'].str.contains(man)),\n",
    "    (immigration_data_clean['GEO'].str.contains(sask)),\n",
    "    (immigration_data_clean['GEO'].str.contains(alta)),\n",
    "    (immigration_data_clean['GEO'].str.contains(bc)),\n",
    "    (immigration_data_clean['GEO'].str.contains(yt)),\n",
    "    (immigration_data_clean['GEO'].str.contains(nwt)),\n",
    "    (immigration_data_clean['GEO'].str.contains(nnv))\n",
    "]\n",
    "\n",
    "# Apply the conditions to create the locations in province.\n",
    "immigration_data_clean['Destination(Province)'] = np.select(conditions, province, default='Other')"
   ]
  },
  {
   "cell_type": "code",
   "execution_count": 131,
   "metadata": {},
   "outputs": [
    {
     "name": "stdout",
     "output_type": "stream",
     "text": [
      "List of Provinces: \n",
      " ['Other' 'Newfoundland and Labrador' 'Prince Edward Island' 'Nova Scotia'\n",
      " 'New Brunswick' 'Quebec' 'Ontario' 'Manitoba' 'Saskatchewan' 'Alberta'\n",
      " 'British Columbia' 'Yukon' 'Northwest Territories' 'Nunavut'] \n",
      "\n",
      "Comment:\n",
      " >> The Province column contains 13 unique provinces and other.\n",
      " >> I need to confirm the locations that are grouped in \"Other\" to confirm that all required locations are captured.\n",
      " >> After confirmation, I will remove the records these records.\n",
      "\n"
     ]
    }
   ],
   "source": [
    "# Print the unique values in Province column.\n",
    "print('List of Provinces: \\n', immigration_data_clean['Destination(Province)'].unique(), '\\n')\n",
    "\n",
    "# Comment.\n",
    "print('Comment:\\n', '>> The Province column contains 13 unique provinces and other.\\n',\n",
    "      '>> I need to confirm the locations that are grouped in \"Other\" to confirm that all required locations are captured.\\n',\n",
    "      '>> After confirmation, I will remove the records these records.\\n')"
   ]
  },
  {
   "cell_type": "code",
   "execution_count": 132,
   "metadata": {},
   "outputs": [
    {
     "name": "stdout",
     "output_type": "stream",
     "text": [
      "['Canada' 'Newfoundland and Labrador' 'Prince Edward Island' 'Nova Scotia'\n",
      " 'New Brunswick' 'Quebec' 'Ontario' 'Manitoba' 'Saskatchewan' 'Alberta'\n",
      " 'British Columbia' 'Yukon' 'Northwest Territories'] \n",
      "\n",
      "Comment:\n",
      " >> The unique locations under \"Other\" are all provinces and \"Canada\".\n",
      " >> This means all locations are captured.\n",
      " >> I will remove the records under \"Other\" in Province column.\n",
      "\n"
     ]
    }
   ],
   "source": [
    "# Print the unique values in GEO column where province is \"Other\".\n",
    "other_data = immigration_data_clean[immigration_data_clean['Destination(Province)'] == 'Other']\n",
    "print(other_data['GEO'].unique(), '\\n')\n",
    "\n",
    "# Comment.\n",
    "print('Comment:\\n', '>> The unique locations under \"Other\" are all provinces and \"Canada\".\\n',\n",
    "      '>> This means all locations are captured.\\n',\n",
    "      '>> I will remove the records under \"Other\" in Province column.\\n')"
   ]
  },
  {
   "cell_type": "code",
   "execution_count": 133,
   "metadata": {},
   "outputs": [
    {
     "name": "stdout",
     "output_type": "stream",
     "text": [
      "Table shape when it contains \"Other\": (4541400, 14)\n",
      "Table shape without \"Other\" records: (4202100, 14) \n",
      "\n",
      "['Newfoundland and Labrador' 'Prince Edward Island' 'Nova Scotia'\n",
      " 'New Brunswick' 'Quebec' 'Ontario' 'Manitoba' 'Saskatchewan' 'Alberta'\n",
      " 'British Columbia' 'Yukon' 'Northwest Territories' 'Nunavut'] \n",
      "\n",
      "Comment:\n",
      " >> The records under \"Other\" has been removed.\n",
      " >> I will now create a new column called Country and populate it with Canada.\n",
      "\n"
     ]
    }
   ],
   "source": [
    "# Remove the records under \"Other\" in Province column.\n",
    "not_other = ~immigration_data_clean['Destination(Province)'].isin(['Other'])\n",
    "immigration_data_clean1 = immigration_data_clean[not_other]\n",
    "\n",
    "print('Table shape when it contains \"Other\":',immigration_data_clean.shape)\n",
    "print('Table shape without \"Other\" records:', immigration_data_clean1.shape, '\\n')\n",
    "print(immigration_data_clean1['Destination(Province)'].unique(), '\\n')\n",
    "\n",
    "# Comment.\n",
    "print('Comment:\\n', '>> The records under \"Other\" has been removed.\\n',\n",
    "      '>> I will now create a new column called Country and populate it with Canada.\\n')"
   ]
  },
  {
   "cell_type": "code",
   "execution_count": null,
   "metadata": {},
   "outputs": [],
   "source": [
    "# Create a new column called Country and populate it with Canada.\n",
    "# Create a list of country.\n",
    "country = [\"Canada\"]\n",
    "\n",
    "# Create Newfoundland and Labrador to capture the locations under the province from the GEO column.\n",
    "ca = \"Newfoundl|Prince|Nova|Brunswick|Quebe|Ontari|Manito|askatchewan|Albert|Britis|Columbi|Yuko|Northwest|Nunavu\"\n",
    "\n",
    "# Create conditions.\n",
    "conditions = [\n",
    "    (immigration_data_clean1['Destination(Province)'].str.contains(ca))\n",
    "]\n",
    "\n",
    "# Apply the conditions.\n",
    "immigration_data_clean1['Destination(Country)'] = np.select(conditions, country, default='Other')\n"
   ]
  },
  {
   "cell_type": "code",
   "execution_count": 135,
   "metadata": {},
   "outputs": [
    {
     "name": "stdout",
     "output_type": "stream",
     "text": [
      "['Canada'] \n",
      "\n",
      "Comment:\n",
      " >> There are some locations have the same name but are in different locations\n",
      " >> These locations have a mini group with a \"/\" in between abbrieviation in the \"GEO\" column.\n",
      " >> I will remove these mini groups.\n",
      " >> First, lets explore the data\n"
     ]
    }
   ],
   "source": [
    "# Check the unique values in Country column.\n",
    "print(immigration_data_clean1['Destination(Country)'].unique(), '\\n')\n",
    "\n",
    "# Comment.\n",
    "print('Comment:\\n', '>> There are some locations have the same name but are in different locations\\n',\n",
    "      '>> These locations have a mini group with a \"/\" in between abbrieviation in the \"GEO\" column.\\n',\n",
    "      '>> I will remove these mini groups.\\n',\n",
    "      '>> First, lets explore the data')"
   ]
  },
  {
   "cell_type": "code",
   "execution_count": 136,
   "metadata": {},
   "outputs": [
    {
     "name": "stdout",
     "output_type": "stream",
     "text": [
      "Unique values in GEO column where GEO is Hawkesbury:\n",
      " ['Hawkesbury (CA), Ont./Que.' 'Hawkesbury (Ontario part) (CA), Ont.'\n",
      " 'Hawkesbury (Quebec part) (CA), Que.'] \n",
      "\n"
     ]
    }
   ],
   "source": [
    "# Select data where GEO is Hawkesbury.\n",
    "unique_camp = immigration_data_clean1['GEO'].str.contains('Hawkesbury')\n",
    "imm = immigration_data_clean1[unique_camp]\n",
    "print('Unique values in GEO column where GEO is Hawkesbury:\\n', imm['GEO'].unique(), '\\n')"
   ]
  },
  {
   "cell_type": "code",
   "execution_count": 137,
   "metadata": {},
   "outputs": [
    {
     "data": {
      "image/png": "[encoded data removed]",
      "text/plain": [
       "<Figure size 500x500 with 1 Axes>"
      ]
     },
     "metadata": {},
     "output_type": "display_data"
    },
    {
     "name": "stdout",
     "output_type": "stream",
     "text": [
      "Immigration by GEO:\n",
      "                                       Total_immigrant\n",
      "GEO                                                  \n",
      "Hawkesbury (CA), Ont./Que.                     3100.0\n",
      "Hawkesbury (Ontario part) (CA), Ont.           2500.0\n",
      "Hawkesbury (Quebec part) (CA), Que.             425.0 \n",
      "\n",
      "Comment:\n",
      " >> The data shows that there are two \"Hawkesbury\" in Canada.\n",
      " >> One is in Ontario and the other is in Quebec.\n",
      " >> The third Hawkesbury is the sub total\n",
      " >> I will remove the mini groups by removing the records that contains \"/\" in the GEO column.\n",
      "\n"
     ]
    }
   ],
   "source": [
    "# Plot a bar chart of the total immigration from 2006 to 2010 in Hawkesbury.\n",
    "g = sns.catplot(x='GEO', y='Period of immigration (8):2006 to 2010[6]', data=imm, kind='bar', errorbar=None)\n",
    "# Set the title of the plot.    \n",
    "g.fig.suptitle('Total Immigration (2006 to 2010)', y=1.01)\n",
    "# Set the axis labels.\n",
    "g.set(xlabel = 'Locations', ylabel = 'Populaton')\n",
    "plt.xticks(rotation=90)\n",
    "plt.show()\n",
    "\n",
    "# Group the immigration between 2006 and 2010 by GEO.\n",
    "print('Immigration by GEO:\\n', imm.groupby('GEO').agg(Total_immigrant = ('Period of immigration (8):2006 to 2010[6]', 'sum')), '\\n')\n",
    "\n",
    "# Comment.\n",
    "print('Comment:\\n', '>> The data shows that there are two \"Hawkesbury\" in Canada.\\n',\n",
    "      '>> One is in Ontario and the other is in Quebec.\\n',\n",
    "      '>> The third Hawkesbury is the sub total\\n',\n",
    "      '>> I will remove the mini groups by removing the records that contains \"/\" in the GEO column.\\n')\n",
    "\n"
   ]
  },
  {
   "cell_type": "code",
   "execution_count": 138,
   "metadata": {},
   "outputs": [
    {
     "name": "stdout",
     "output_type": "stream",
     "text": [
      "Data shape with mini groups: (4202100, 15)\n",
      "Data shape without mini groups: (4097700, 15) \n",
      "\n",
      "Comment:\n",
      " >> The mini groups have been removed.\n",
      " >> Lets explore other categorical columns.\n",
      "\n"
     ]
    }
   ],
   "source": [
    "# Remove the mini groups by removing the records that contains \"/\" in the GEO column.\n",
    "not_mini_grp = ~immigration_data_clean1['GEO'].str.contains('/')\n",
    "immigration_data_no_minigrp = immigration_data_clean1[not_mini_grp]\n",
    "\n",
    "# Print data shape.\n",
    "print('Data shape with mini groups:', immigration_data_clean1.shape)\n",
    "print('Data shape without mini groups:',immigration_data_no_minigrp.shape, '\\n')\n",
    "\n",
    "# Comment.\n",
    "print('Comment:\\n', '>> The mini groups have been removed.\\n',\n",
    "      '>> Lets explore other categorical columns.\\n')"
   ]
  },
  {
   "cell_type": "code",
   "execution_count": 139,
   "metadata": {},
   "outputs": [
    {
     "name": "stdout",
     "output_type": "stream",
     "text": [
      "Categorical columns:\n",
      " Index(['GEO', 'DGUID', 'Age (15C)', 'Gender (3)', 'Statistics (2)',\n",
      "       'Place of birth (290)', 'Destination(Province)',\n",
      "       'Destination(Country)'],\n",
      "      dtype='object') \n",
      "\n",
      "No of unique values in \"DGUID\" column: 157 \n",
      "\n",
      "['2021S0504015' '2021S0504011' '2021S0504010' '2021S0503001'\n",
      " '2021S0504105' '2021S0504110' '2021S0504225' '2021S0503205'\n",
      " '2021S0504210' '2021S0504220' '2021S0504215' '2021S0504328'\n",
      " '2021S050613330' '2021S050624330' '2021S0504335' '2021S0503320'\n",
      " '2021S0504329' '2021S0503305' '2021S0503310' '2021S0504410'\n",
      " '2021S0504481' '2021S0504406' '2021S0504437' '2021S0504411'\n",
      " '2021S0503447' '2021S0504450' '2021S0504456' '2021S0504468'\n",
      " '2021S0504403' '2021S0503462' '2021S0503421' '2021S0504404'\n",
      " '2021S0504405' '2021S0504485' '2021S0503408' '2021S0504428'\n",
      " '2021S0504452' '2021S0504467' '2021S0504423' '2021S0504465'\n",
      " '2021S0504412' '2021S0504444' '2021S0503433' '2021S0504454'\n",
      " '2021S0504430' '2021S0503442' '2021S0504480' '2021S0504440'\n",
      " '2021S0503568' '2021S0503522' '2021S0503543' '2021S0504512'\n",
      " '2021S0504531' '2021S0504556' '2021S0504527' '2021S0504567'\n",
      " '2021S0504501' '2021S0504582' '2021S0504563' '2021S0503580'\n",
      " '2021S0503550' '2021S0503537' '2021S050635502' '2021S050624502'\n",
      " '2021S0504533' '2021S0504530' '2021S0504598' '2021S0503521'\n",
      " '2021S0503541' '2021S0503555' '2021S0504571' '2021S0504547'\n",
      " '2021S0504575' '2021S0504569' '2021S0503532' '2021S050535505'\n",
      " '2021S050524505' '2021S0504566' '2021S0504515' '2021S0504516'\n",
      " '2021S0503529' '2021S0504528' '2021S0504562' '2021S0504590'\n",
      " '2021S0503539' '2021S0504553' '2021S0503595' '2021S0504546'\n",
      " '2021S0504586' '2021S0503535' '2021S0504565' '2021S0503559'\n",
      " '2021S0504544' '2021S0504610' '2021S0504607' '2021S0504605'\n",
      " '2021S0504640' '2021S0504603' '2021S0503602' '2021S0504750'\n",
      " '2021S0504715' '2021S0504735' '2021S0504745' '2021S0503705'\n",
      " '2021S0503725' '2021S0504720' '2021S0504755' '2021S0504710'\n",
      " '2021S0504806' '2021S0503825' '2021S0504833' '2021S0504828'\n",
      " '2021S0503835' '2021S0504850' '2021S0504821' '2021S0504832'\n",
      " '2021S0503810' '2021S050648840' '2021S050647840' '2021S0504805'\n",
      " '2021S0504820' '2021S0503830' '2021S0504826' '2021S0504831'\n",
      " '2021S0504865' '2021S0504860' '2021S0503932' '2021S0504944'\n",
      " '2021S0503930' '2021S0504943' '2021S0504905' '2021S0504975'\n",
      " '2021S0504937' '2021S0504977' '2021S0503925' '2021S0503915'\n",
      " '2021S0504936' '2021S0503938' '2021S0504907' '2021S0504939'\n",
      " '2021S0504913' '2021S0504940' '2021S0504945' '2021S0504970'\n",
      " '2021S0504955' '2021S0504952' '2021S0504920' '2021S0504934'\n",
      " '2021S0504965' '2021S0504910' '2021S0503933' '2021S0504918'\n",
      " '2021S0503935' '2021S0504950' '2021S0504990' '2021S0504995' '2021A000262'] \n",
      "\n"
     ]
    }
   ],
   "source": [
    "# Print the categorical columns.\n",
    "cat_col = immigration_data_no_minigrp.select_dtypes('object')\n",
    "print('Categorical columns:\\n', cat_col.columns, '\\n')\n",
    "\n",
    "# Get the unique values in DGUID column.\n",
    "print('No of unique values in \"DGUID\" column:', immigration_data_no_minigrp['DGUID'].nunique(), '\\n')\n",
    "print(immigration_data_no_minigrp['DGUID'].unique(), '\\n')"
   ]
  },
  {
   "cell_type": "code",
   "execution_count": 140,
   "metadata": {},
   "outputs": [
    {
     "name": "stdout",
     "output_type": "stream",
     "text": [
      "No of unique values in \"Age (15C)\" column: 15 \n",
      "\n",
      "['Total - Age' '0 to 14 years' '15 years and over' '15 to 24 years'\n",
      " '15 to 19 years' '20 to 24 years' '25 to 64 years' '25 to 54 years'\n",
      " '25 to 34 years' '35 to 44 years' '45 to 54 years' '55 to 64 years'\n",
      " '65 years and over' '65 to 74 years' '75 years and over'] \n",
      "\n",
      "Comment:\n",
      " >> The Age column contains 15 unique values.\n",
      " >> I will separate the metadata into four groups.\n",
      "\n"
     ]
    }
   ],
   "source": [
    "# Get the unique values in Age column.\n",
    "print('No of unique values in \"Age (15C)\" column:', immigration_data_no_minigrp['Age (15C)'].nunique(), '\\n')\n",
    "print(immigration_data_no_minigrp['Age (15C)'].unique(), '\\n')\n",
    "\n",
    "# Comment\n",
    "print('Comment:\\n', '>> The Age column contains 15 unique values.\\n',\n",
    "      '>> I will separate the metadata into four groups.\\n')"
   ]
  },
  {
   "cell_type": "code",
   "execution_count": 141,
   "metadata": {},
   "outputs": [],
   "source": [
    "# Create a list of Age Grp 2.\n",
    "age_grp2 = ['0 to 14 years','15 to 19 years','20 to 24 years','25 to 54 years','55 to 64 years','65 to 74 years','75 years and over']\n",
    "\n",
    "# Create 0 to 14 years to capture the age range.\n",
    "a1 = \"0 to 14 year\"\n",
    "\n",
    "# Create 15 to 19 years to capture the age range.\n",
    "a2 = \"15 to 19 ye\"\n",
    "\n",
    "# Create 20 to 24 years to capture the age range.\n",
    "a3 = \"20 to 24\"\n",
    "\n",
    "# Create 25 to 54 years to capture the age range.\n",
    "a4 = \"25 to 34|35 to 44|45 to 54\"\n",
    "\n",
    "# Create 55 to 64 years to capture the age range.\n",
    "a5 = \"55 to 64\"\n",
    "\n",
    "# Create 65 to 74 years to capture the age range.\n",
    "a6 = \"65 to 74\"\n",
    "\n",
    "# Create 75 years and over to capture the age range.\n",
    "a7 = \"75 years a\""
   ]
  },
  {
   "cell_type": "code",
   "execution_count": null,
   "metadata": {},
   "outputs": [],
   "source": [
    "# Create conditions for age group 2 to be created.\n",
    "conditions = [\n",
    "    (immigration_data_no_minigrp['Age (15C)'].str.contains(a1)),\n",
    "    (immigration_data_no_minigrp['Age (15C)'].str.contains(a2)),\n",
    "    (immigration_data_no_minigrp['Age (15C)'].str.contains(a3)),\n",
    "    (immigration_data_no_minigrp['Age (15C)'].str.contains(a4)),\n",
    "    (immigration_data_no_minigrp['Age (15C)'].str.contains(a5)),\n",
    "    (immigration_data_no_minigrp['Age (15C)'].str.contains(a6)),\n",
    "    (immigration_data_no_minigrp['Age (15C)'].str.contains(a7))\n",
    "]\n",
    "\n",
    "# Apply the conditions to create the locations in province.\n",
    "immigration_data_no_minigrp['Immgrants Age (Age Grp2)'] = np.select(conditions, age_grp2, default='Other')"
   ]
  },
  {
   "cell_type": "code",
   "execution_count": 143,
   "metadata": {},
   "outputs": [
    {
     "name": "stdout",
     "output_type": "stream",
     "text": [
      "Unique values in Age Grp2 Column:\n",
      " ['Other' '0 to 14 years' '15 to 19 years' '20 to 24 years'\n",
      " '25 to 54 years' '55 to 64 years' '65 to 74 years' '75 years and over'] \n",
      "\n",
      "Unique values in Age Grp2 Column where Age Grp2 is \"Other\":\n",
      " ['Total - Age' '15 years and over' '15 to 24 years' '25 to 64 years'\n",
      " '25 to 54 years' '65 years and over'] \n",
      "\n",
      "Comment:\n",
      " >> Remove the records group as \"Other\"\n",
      "\n"
     ]
    }
   ],
   "source": [
    "# Get the unique values in Age Grp2 column.\n",
    "print('Unique values in Age Grp2 Column:\\n', immigration_data_no_minigrp['Immgrants Age (Age Grp2)'].unique(), '\\n')\n",
    "\n",
    "# Check the unique values in \"Other\" to confirm that all required age ranges are captured.\n",
    "grp_other = immigration_data_no_minigrp[immigration_data_no_minigrp['Immgrants Age (Age Grp2)'] == 'Other']\n",
    "print('Unique values in Age Grp2 Column where Age Grp2 is \"Other\":\\n', grp_other['Age (15C)'].unique(), '\\n')\n",
    "\n",
    "# Comment.\n",
    "print('Comment:\\n', '>> Remove the records group as \"Other\"\\n')"
   ]
  },
  {
   "cell_type": "code",
   "execution_count": 144,
   "metadata": {},
   "outputs": [],
   "source": [
    "# Remove the records group as \"Other\".\n",
    "not_other_age = ~immigration_data_no_minigrp['Immgrants Age (Age Grp2)'].isin(['Other'])\n",
    "immigration_data_age_grp2 = immigration_data_no_minigrp[not_other_age]"
   ]
  },
  {
   "cell_type": "code",
   "execution_count": 145,
   "metadata": {},
   "outputs": [],
   "source": [
    "# Create a list of Age Grp 3.\n",
    "age_grp3 = ['0 to 14 years','15 to 24 years','25 to 64 years','65 years and over']\n",
    "\n",
    "# Create 0 to 14 years to capture the age range.\n",
    "b1 = \"0 to 14 year\"\n",
    "\n",
    "# Create 15 to 24 years to capture the age range.\n",
    "b2 = \"15 to 19 ye|20 to 24\"\n",
    "\n",
    "# Create 25 to 64 years to capture the age range.\n",
    "b3 = \"25 to 54|55 to 64\"\n",
    "\n",
    "# Create 65 years and over to capture the age range.\n",
    "b4 = \"65 to 74|75 years and ov\"\n"
   ]
  },
  {
   "cell_type": "code",
   "execution_count": null,
   "metadata": {},
   "outputs": [],
   "source": [
    "# Create conditions for age group 3 to be created.\n",
    "conditions = [\n",
    "    (immigration_data_age_grp2['Immgrants Age (Age Grp2)'].str.contains(b1)),\n",
    "    (immigration_data_age_grp2['Immgrants Age (Age Grp2)'].str.contains(b2)),\n",
    "    (immigration_data_age_grp2['Immgrants Age (Age Grp2)'].str.contains(b3)),\n",
    "    (immigration_data_age_grp2['Immgrants Age (Age Grp2)'].str.contains(b4))\n",
    "]\n",
    "\n",
    "# Apply the conditions to create the locations in province.\n",
    "immigration_data_age_grp2['Immgrants Age (Age Grp3)'] = np.select(conditions, age_grp3, default='Other')"
   ]
  },
  {
   "cell_type": "code",
   "execution_count": 147,
   "metadata": {},
   "outputs": [
    {
     "name": "stdout",
     "output_type": "stream",
     "text": [
      "Unique values in Age Grp3 Column:\n",
      " ['0 to 14 years' '15 to 24 years' '25 to 64 years' '65 years and over'] \n",
      "\n",
      "Comment:\n",
      " >> Create Group 4 age column\n",
      "\n"
     ]
    }
   ],
   "source": [
    "# Get the unique values in Age Grp3 column.\n",
    "print('Unique values in Age Grp3 Column:\\n', immigration_data_age_grp2['Immgrants Age (Age Grp3)'].unique(), '\\n')\n",
    "\n",
    "# Comment.\n",
    "print('Comment:\\n', '>> Create Group 4 age column\\n')\n"
   ]
  },
  {
   "cell_type": "code",
   "execution_count": 148,
   "metadata": {},
   "outputs": [],
   "source": [
    "# Create a list of Age Grp 4.\n",
    "age_grp4 = ['0 to 14 years','15 years and over']\n",
    "\n",
    "# Create 0 to 14 years to capture the age range.\n",
    "c1 = \"0 to 14 year\"\n",
    "\n",
    "# Create 15 to 24 years to capture the age range.\n",
    "c2 = \"15 to 24 ye|25 to 64 ye|65 years and o\""
   ]
  },
  {
   "cell_type": "code",
   "execution_count": null,
   "metadata": {},
   "outputs": [],
   "source": [
    "# Create conditions for age group 4 to be created.\n",
    "conditions = [\n",
    "    (immigration_data_age_grp2['Immgrants Age (Age Grp3)'].str.contains(c1)),\n",
    "    (immigration_data_age_grp2['Immgrants Age (Age Grp3)'].str.contains(c2))\n",
    "]\n",
    "\n",
    "# Apply the conditions to create the locations in province.\n",
    "immigration_data_age_grp2['Immgrants Age (Age Grp4)'] = np.select(conditions, age_grp4, default='Other')"
   ]
  },
  {
   "cell_type": "code",
   "execution_count": 150,
   "metadata": {},
   "outputs": [
    {
     "name": "stdout",
     "output_type": "stream",
     "text": [
      "Unique values in Age Grp4 Column:\n",
      " ['0 to 14 years' '15 to 24 years' '25 to 64 years' '65 years and over'] \n",
      "\n",
      "Comment:\n",
      " >> The Age column has been separated into four groups.\n",
      " >> Lets explore the data in the gender column.\n",
      "\n"
     ]
    }
   ],
   "source": [
    "# Get the unique values in Age Grp4 column.\n",
    "print('Unique values in Age Grp4 Column:\\n', immigration_data_age_grp2['Immgrants Age (Age Grp3)'].unique(), '\\n')\n",
    "\n",
    "# Comment.\n",
    "print('Comment:\\n', '>> The Age column has been separated into four groups.\\n',\n",
    "      '>> Lets explore the data in the gender column.\\n')"
   ]
  },
  {
   "cell_type": "code",
   "execution_count": 151,
   "metadata": {},
   "outputs": [
    {
     "name": "stdout",
     "output_type": "stream",
     "text": [
      "Unique values in gender column: ['Total - Gender' 'Men+' 'Women+'] \n",
      "\n",
      "Unique values in gender column: ['Men+' 'Women+'] \n",
      "\n",
      "Data Shape: (1639080, 18) \n",
      "\n"
     ]
    }
   ],
   "source": [
    "# Get the unique values in the gender column.\n",
    "print('Unique values in gender column:', immigration_data_age_grp2['Gender (3)'].unique(), '\\n')\n",
    "\n",
    "# Remove the \"Total-Gender\" from the records.\n",
    "not_tot_gend = ~immigration_data_age_grp2['Gender (3)'].isin(['Total - Gender'])\n",
    "immigration_data_gender = immigration_data_age_grp2[not_tot_gend]\n",
    "\n",
    "# Get the unique values in gender column.\n",
    "print('Unique values in gender column:', immigration_data_gender['Gender (3)'].unique(), '\\n')\n",
    "print('Data Shape:', immigration_data_gender.shape, '\\n')   "
   ]
  },
  {
   "cell_type": "code",
   "execution_count": 152,
   "metadata": {},
   "outputs": [
    {
     "name": "stdout",
     "output_type": "stream",
     "text": [
      "Unique columns in statistic column:\n",
      " ['2021 Counts' '% distribution (2021)'] \n",
      "\n",
      "Data Shape: (819540, 18) \n",
      "\n"
     ]
    }
   ],
   "source": [
    "# Explore the data in the Statistics column.\n",
    "print('Unique columns in statistic column:\\n', immigration_data_gender['Statistics (2)'].unique(), '\\n')\n",
    "\n",
    "# Remove the \"% distribution (2021)\" from the records.\n",
    "no_dist = ~immigration_data_gender['Statistics (2)'].isin(['% distribution (2021)'])\n",
    "immigration_data_stat = immigration_data_gender[no_dist]\n",
    "\n",
    "# Get the shape of the data.\n",
    "print('Data Shape:', immigration_data_stat.shape, '\\n')"
   ]
  },
  {
   "cell_type": "code",
   "execution_count": 153,
   "metadata": {},
   "outputs": [
    {
     "name": "stdout",
     "output_type": "stream",
     "text": [
      "No of Unique columns in statistic column:\n",
      " 290 \n",
      "\n",
      "Unique columns in statistic column:\n",
      " ['Total – Place of birth' 'Inside Canada' 'Newfoundland and Labrador'\n",
      " 'Prince Edward Island' 'Nova Scotia' 'New Brunswick' 'Quebec' 'Ontario'\n",
      " 'Manitoba' 'Saskatchewan' 'Alberta' 'British Columbia' 'Yukon'\n",
      " 'Northwest Territories' 'Nunavut' 'Outside Canada' 'Americas'\n",
      " 'North America' 'Greenland' 'Saint Pierre and Miquelon'\n",
      " 'United States of America' 'Central America' 'Belize' 'Costa Rica'\n",
      " 'El Salvador' 'Guatemala' 'Honduras' 'Mexico' 'Nicaragua' 'Panama'\n",
      " 'Caribbean and Bermuda' 'Anguilla' 'Antigua and Barbuda' 'Aruba'\n",
      " 'Bahamas' 'Barbados' 'Bermuda' 'Bonaire, Sint Eustatius and Saba'\n",
      " 'Cayman Islands' 'Cuba' 'Curaçao' 'Dominica' 'Dominican Republic'\n",
      " 'Grenada' 'Guadeloupe' 'Haiti' 'Jamaica' 'Martinique' 'Montserrat'\n",
      " 'Puerto Rico' 'Saint Barthélemy' 'Saint Kitts and Nevis' 'Saint Lucia'\n",
      " 'Saint Martin (French part)' 'Saint Vincent and the Grenadines'\n",
      " 'Sint Maarten (Dutch part)' 'Trinidad and Tobago'\n",
      " 'Turks and Caicos Islands' 'Virgin Islands, British'\n",
      " 'Virgin Islands, United States' 'South America' 'Argentina' 'Bolivia'\n",
      " 'Brazil' 'Chile' 'Colombia' 'Ecuador' 'Falkland Islands (Malvinas)'\n",
      " 'French Guiana' 'Guyana' 'Paraguay' 'Peru'\n",
      " 'South Georgia and the South Sandwich Islands' 'Suriname' 'Uruguay'\n",
      " 'Venezuela' 'Europe' 'Western Europe' 'Austria' 'Belgium' 'France'\n",
      " 'Germany' 'Liechtenstein' 'Luxembourg' 'Monaco' 'Netherlands'\n",
      " 'Switzerland' 'Eastern Europe' 'Belarus' 'Bulgaria' 'Czechia' 'Estonia'\n",
      " 'Hungary' 'Latvia' 'Lithuania' 'Moldova' 'Poland' 'Romania'\n",
      " 'Russian Federation' 'Slovakia' 'Ukraine' 'Northern Europe'\n",
      " 'Åland Islands' 'Denmark' 'Faroe Islands' 'Finland' 'Guernsey' 'Iceland'\n",
      " 'Ireland' 'Isle of Man' 'Jersey' 'Norway' 'Sark' 'Svalbard and Jan Mayen'\n",
      " 'Sweden' 'United Kingdom' 'Southern Europe' 'Albania' 'Andorra'\n",
      " 'Bosnia and Herzegovina' 'Croatia' 'Gibraltar' 'Greece'\n",
      " 'Holy See (Vatican City State)' 'Italy' 'Kosovo' 'Malta' 'Montenegro'\n",
      " 'North Macedonia' 'Portugal' 'San Marino' 'Serbia' 'Slovenia' 'Spain'\n",
      " 'Africa' 'Western Africa' 'Benin' 'Burkina Faso' 'Cabo Verde'\n",
      " \"Côte d'Ivoire\" 'Gambia' 'Ghana' 'Guinea' 'Guinea-Bissau' 'Liberia'\n",
      " 'Mali' 'Mauritania' 'Niger' 'Nigeria'\n",
      " 'Saint Helena, Ascension and Tristan da Cunha' 'Senegal' 'Sierra Leone'\n",
      " 'Togo' 'Eastern Africa' 'Burundi' 'Comoros' 'Djibouti' 'Eritrea'\n",
      " 'Ethiopia' 'Kenya' 'Madagascar' 'Malawi' 'Mauritius' 'Mayotte'\n",
      " 'Mozambique' 'Réunion' 'Rwanda' 'Seychelles' 'Somalia' 'South Sudan'\n",
      " 'Tanzania' 'Uganda' 'Zambia' 'Zimbabwe' 'Northern Africa' 'Algeria'\n",
      " 'Egypt' 'Libya' 'Morocco' 'Sudan' 'Tunisia' 'Western Sahara'\n",
      " 'Central Africa' 'Angola' 'Cameroon' 'Central African Republic' 'Chad'\n",
      " 'Congo, Democratic Republic of the' 'Congo, Republic of the'\n",
      " 'Equatorial Guinea' 'Gabon' 'Sao Tome and Principe' 'Southern Africa'\n",
      " 'Botswana' 'Eswatini' 'Lesotho' 'Namibia' 'South Africa, Republic of'\n",
      " 'Asia' 'West Central Asia and the Middle East' 'Afghanistan' 'Armenia'\n",
      " 'Azerbaijan' 'Bahrain' 'Cyprus' 'Georgia' 'Iran' 'Iraq' 'Israel' 'Jordan'\n",
      " 'Kazakhstan' 'Kuwait' 'Kyrgyzstan' 'Lebanon' 'Oman' 'Qatar'\n",
      " 'Saudi Arabia' 'Syria' 'Tajikistan' 'Turkey' 'Turkmenistan'\n",
      " 'United Arab Emirates' 'Uzbekistan' 'West Bank and Gaza Strip' 'Yemen'\n",
      " 'Eastern Asia' 'China' 'Hong Kong' 'Japan' 'Korea, North' 'Korea, South'\n",
      " 'Macao' 'Mongolia' 'Taiwan' 'Southeast Asia' 'Brunei Darussalam'\n",
      " 'Cambodia' 'Indonesia' 'Laos' 'Malaysia' 'Myanmar' 'Philippines'\n",
      " 'Singapore' 'Thailand' 'Timor-Leste' 'Viet Nam' 'Southern Asia'\n",
      " 'Bangladesh' 'Bhutan' 'British Indian Ocean Territory' 'India' 'Maldives'\n",
      " 'Nepal' 'Pakistan' 'Sri Lanka' 'Oceania' 'American Samoa' 'Australia'\n",
      " 'Christmas Island' 'Cocos (Keeling) Islands' 'Cook Islands' 'Fiji'\n",
      " 'French Polynesia' 'Guam' 'Kiribati' 'Marshall Islands'\n",
      " 'Micronesia, Federated States of' 'Nauru' 'New Caledonia' 'New Zealand'\n",
      " 'Niue' 'Norfolk Island' 'Northern Mariana Islands' 'Palau'\n",
      " 'Papua New Guinea' 'Pitcairn' 'Samoa' 'Solomon Islands' 'Tokelau' 'Tonga'\n",
      " 'Tuvalu' 'United States Minor Outlying Islands' 'Vanuatu'\n",
      " 'Wallis and Futuna' 'Antarctica and Adjacent Islands' 'Antarctica'\n",
      " 'Bouvet Island' 'French Southern Territories'\n",
      " 'Heard Island and McDonald Islands' 'Other'] \n",
      "\n"
     ]
    }
   ],
   "source": [
    "# Explore the data in the Place of birth column.\n",
    "print('No of Unique columns in statistic column:\\n', immigration_data_stat['Place of birth (290)'].nunique(), '\\n')\n",
    "print('Unique columns in statistic column:\\n', immigration_data_stat['Place of birth (290)'].unique(), '\\n')"
   ]
  },
  {
   "cell_type": "code",
   "execution_count": 154,
   "metadata": {},
   "outputs": [
    {
     "name": "stdout",
     "output_type": "stream",
     "text": [
      "Comment:\n",
      " >> I will create two groups out of the Place of Birth column.\n",
      " >> The first group will contain the location and the second group will contain the continents.\n",
      "\n"
     ]
    }
   ],
   "source": [
    "# Comment.\n",
    "print('Comment:\\n', '>> I will create two groups out of the Place of Birth column.\\n',\n",
    "      '>> The first group will contain the location and the second group will contain the continents.\\n')"
   ]
  },
  {
   "cell_type": "code",
   "execution_count": 155,
   "metadata": {},
   "outputs": [],
   "source": [
    "# Create a list of region.\n",
    "region = ['North America','Central America','Caribbean and Bermuda','South America','Western Europe','Eastern Europe',\n",
    "          'Northern Europe','Southern Europe','Western Africa','Eastern Africa','Northern Africa','Central Africa','Southern Africa',\n",
    "          'West Central Asia and the Middle East','Eastern Asia','Southeast Asia','Southern Asia','Oceania','Antarctica and Adjacent Islands',\n",
    "          'Other','Inside Canada']\n",
    "\n",
    "\n",
    "# Create North America to capture countries under the region.\n",
    "na = \"Greenlan|Saint Pierre and Miquelo|United States of Americ\"\n",
    "\n",
    "# Create Central America to capture countries under the region.\n",
    "ca = \"Beliz|Costa Ric|El Salvado|Guatemal|Hondura|Mexic|Nicaragu|Panam\"\n",
    "\n",
    "# Create Caribbean and Bermuda to capture countries under the region.\n",
    "cb = \"Anguill|Antigua and Barbud|Arub|Bahama|Barbado|Bermud|Bonaire, Sint Eustatius and Sab|Cayman Island|Cuba|Curaça|Dominic|\\\n",
    "    Dominican Republi|Grenad|Guadeloup|Hait|Jamaic|Martiniqu|Montserra|Puerto Ric|Saint Barthélem|Saint Kitts and Nevi|Saint Luci|Saint Martin|\\\n",
    "        Saint Vincent and the Grenadine|Sint Maarten|Trinidad and Tobag|Turks and Caicos Island|Virgin Islands, Britis|Virgin Islands, United State\"\n",
    "\n",
    "# Create South America to capture countries under the region.\n",
    "sa = \"Argentin|Bolivi|Brazi|Chil|Colombi|Ecuado|Falkland Island|French Guian|Guyan|Paragua|Peru|\\\n",
    "    South Georgia and the South Sandwich Islands|Surinam|Urugua|Venezuel\"\n",
    "    \n",
    "# Create Western Europe to capture countries under the region.\n",
    "we = \"Austri|Belgiu|Franc|German|Liechtenstei|Luxembour|Monac|Netherland|Switzerlan\"\n",
    "\n",
    "# Create Eastern Europe to capture countries under the region.\n",
    "ee = \"Belaru|Bulgari|Czechi|Estoni|Hungar|Latvi|Lithuani|Moldov|Polan|Romani|Russian Federatio|Slovaki|Ukrain\"\n",
    "\n",
    "# Create Northern Europe to capture countries under the region.\n",
    "ne = \"Åland Island|Denmar|Faroe Island|Finlan|Guernse|Icelan|Irelan|Isle of Ma|Jerse|Norwa|Sark|Svalbard and Jan Maye|Swede|United Kingdo\"\n",
    "\n",
    "# Create Southern Europe to capture countries under the region.\n",
    "se = \"Albani|Andorr|Bosnia and Herzegovin|Croati|Gibralta|Greec|Holy See|Italy|Kosov|Malta|Montenegr|North Macedoni|Portuga|San Marin|Serbi|Sloveni|Spain\"\n",
    "\n",
    "# Create Western Africa to capture countries under the region.\n",
    "waf = \"Beni|Burkina Fas|Cabo Verd|Côte d'Ivoir|Gambi|Ghana|Guine|Guinea-Bissa|Liberi|Mali|Mauritani|Niger|Nigeri|Saint Helena, Ascension and Tristan da Cunha|Senega|Sierra Leon|Togo\"\n",
    "    \n",
    "# Create Eastern Africa to capture countries under the region.\n",
    "eaf = \"Burund|Comoro|Djibout|Eritre|Ethiopi|Kenya|Madagasca|Malaw|Mauritiu|Mayotte|Mozambiqu|Réunio|Rwanda|Seychelle|Somali|\\\n",
    "    South Suda|Tanzani|Uganda|Zambi|Zimbabw\"\n",
    "    \n",
    "# Create Northern Africa to capture countries under the region.\n",
    "naf = \"Algeri|Egyp|Liby|Morocc|Sudan|Tunisi|Western Sahar\"\n",
    "\n",
    "# Create Central Africa to capture countries under the region.\n",
    "caf = \"Angol|Cameroo|Central African Republi|Chad|Congo, Democratic Republic of th|Congo, Republic of th|Equatorial Guine|Gabon|Sao Tome and Princip\"\n",
    "\n",
    "# Create Southern Africa to capture countries under the region.\n",
    "saf = \"Botswan|Eswatin|Lesoth|Namibi|South Africa, Republic o\"\n",
    "\n",
    "# Create West Central Asia and the Middle East to capture countries under the region.\n",
    "wcam = \"Afghanista|Armeni|Azerbaija|Bahrai|Cypru|Georgi|Iran|Iraq|Israe|Jorda|Kazakhsta|Kuwait|Kyrgyzsta|Lebano|Oman|Qatar|Saudi Arabia|Syria|Tajikista|Turke|Turkmenista|United Arab Emirate|Uzbekista|West Bank and Gaza Stri|Yemen\"\n",
    "    \n",
    "# Create Eastern Asia to capture countries under the region.\n",
    "eas = \"China|Hong Kon|Japan|Korea, Nort|Korea, Sout|Maca|Mongoli|Taiwa\"\n",
    "\n",
    "# Create Southeast Asia to capture countries under the region.\n",
    "seas = \"Brunei Darussala|Cambodi|Indonesi|Lao|Malaysi|Myanma|Philippine|Singapor|Thailan|Timor-Lest|Viet Na\"\n",
    "\n",
    "# Create Southern Asia to capture countries under the region.\n",
    "sas = \"Banglades|Bhuta|British Indian Ocean Territor|India|Maldive|Nepa|Pakista|Sri Lanka\"\n",
    "\n",
    "# Create Oceania to capture countries under the region.\n",
    "ocn = \"American Samo|Australi|Christmas Islan|Cocos|Cook Island|Fij|French Polynesi|Guam|Kiribat|Marshall Island|Micronesia, Federated States of|Nauru|New Caledoni|New Zealan|Niue|Norfolk Islan|Northern Mariana Island|Palau|Papua New Guine|Pitcair|Samoa|Solomon Island|Tokela|Tong|Tuval|United States Minor Outlying Island|Vanuat|Wallis and Futuna\"\n",
    "\n",
    "# Create Antarctica and Adjacent Islands to capture countries under the region.\n",
    "aaj = \"Antarctic|Bouvet Islan|French Southern Territorie|Heard Island and McDonald Island\"\n",
    "\n",
    "# Create Other to capture countries under the region.\n",
    "oth = \"Othe\"\n",
    "\n",
    "# Create Inside Canada to capture countries under the region.\n",
    "inc = \"Newfoundland and Labrado|Prince Edward Islan|Nova Scoti|New Brunswic|Quebe|Ontari|Manitob|Saskatchewa|Albert|British Columbi|Yuko|Northwest Territories|Nunavu\"\n",
    "\n",
    "\n"
   ]
  },
  {
   "cell_type": "code",
   "execution_count": null,
   "metadata": {},
   "outputs": [],
   "source": [
    "# Create conditions for regions to be created.\n",
    "conditions = [\n",
    "    (immigration_data_stat['Place of birth (290)'].str.contains(na)),\n",
    "    (immigration_data_stat['Place of birth (290)'].str.contains(ca)),\n",
    "    (immigration_data_stat['Place of birth (290)'].str.contains(cb)),\n",
    "    (immigration_data_stat['Place of birth (290)'].str.contains(sa)),\n",
    "    (immigration_data_stat['Place of birth (290)'].str.contains(we)),\n",
    "    (immigration_data_stat['Place of birth (290)'].str.contains(ee)),\n",
    "    (immigration_data_stat['Place of birth (290)'].str.contains(ne)),\n",
    "    (immigration_data_stat['Place of birth (290)'].str.contains(se)),\n",
    "    (immigration_data_stat['Place of birth (290)'].str.contains(waf)),\n",
    "    (immigration_data_stat['Place of birth (290)'].str.contains(eaf)),\n",
    "    (immigration_data_stat['Place of birth (290)'].str.contains(naf)),\n",
    "    (immigration_data_stat['Place of birth (290)'].str.contains(caf)),\n",
    "    (immigration_data_stat['Place of birth (290)'].str.contains(saf)),\n",
    "    (immigration_data_stat['Place of birth (290)'].str.contains(wcam)),\n",
    "    (immigration_data_stat['Place of birth (290)'].str.contains(eas)),\n",
    "    (immigration_data_stat['Place of birth (290)'].str.contains(seas)),\n",
    "    (immigration_data_stat['Place of birth (290)'].str.contains(sas)),\n",
    "    (immigration_data_stat['Place of birth (290)'].str.contains(ocn)),\n",
    "    (immigration_data_stat['Place of birth (290)'].str.contains(aaj)),\n",
    "    (immigration_data_stat['Place of birth (290)'].str.contains(oth)),\n",
    "    (immigration_data_stat['Place of birth (290)'].str.contains(inc))\n",
    "]\n",
    "\n",
    "# Apply the conditions to create Region.\n",
    "immigration_data_stat['Place of Birth(Region)'] = np.select(conditions, region, default='Other')"
   ]
  },
  {
   "cell_type": "code",
   "execution_count": 157,
   "metadata": {},
   "outputs": [
    {
     "name": "stdout",
     "output_type": "stream",
     "text": [
      "Unique Values in Region column:\n",
      " ['Other' 'Inside Canada' 'North America' 'Central America'\n",
      " 'Caribbean and Bermuda' 'South America'\n",
      " 'West Central Asia and the Middle East' 'Western Europe' 'Eastern Europe'\n",
      " 'Northern Europe' 'Southern Europe' 'Western Africa' 'Eastern Africa'\n",
      " 'Northern Africa' 'Central Africa' 'Southern Africa' 'Eastern Asia'\n",
      " 'Southeast Asia' 'Southern Asia' 'Oceania'\n",
      " 'Antarctica and Adjacent Islands'] \n",
      "\n",
      "Unique Values in Place of birth column, grouped under Other:\n",
      " ['Total – Place of birth' 'Inside Canada' 'Outside Canada' 'Americas'\n",
      " 'North America' 'Central America' 'South America' 'Europe'\n",
      " 'Western Europe' 'Eastern Europe' 'Northern Europe' 'Southern Europe'\n",
      " 'Africa' 'Western Africa' 'Eastern Africa' 'Northern Africa'\n",
      " 'Central Africa' 'Southern Africa' 'Asia'\n",
      " 'West Central Asia and the Middle East' 'Eastern Asia' 'Southeast Asia'\n",
      " 'Southern Asia' 'Oceania' 'Other'] \n",
      "\n",
      "Comment:\n",
      " >> The unique countries and locations inside Canada in Place of birth columng has been grouped into regions.\n",
      " >> This means all countries and location are captured.\n",
      " >> I will remove the records under \"Other\" in Region column.\n",
      "\n"
     ]
    }
   ],
   "source": [
    "# Get the unique values in Region column.\n",
    "print('Unique Values in Region column:\\n', immigration_data_stat['Place of Birth(Region)'].unique(), '\\n')\n",
    "\n",
    "# Get the unique values in Place of birth column where Region is \"Other\".\n",
    "sais = immigration_data_stat[immigration_data_stat['Place of Birth(Region)'] == 'Other']\n",
    "print('Unique Values in Place of birth column, grouped under Other:\\n',sais['Place of birth (290)'].unique(), '\\n')\n",
    "\n",
    "# Comment.\n",
    "print('Comment:\\n',\n",
    "      '>> The unique countries and locations inside Canada in Place of birth columng has been grouped into regions.\\n',\n",
    "      '>> This means all countries and location are captured.\\n',\n",
    "      '>> I will remove the records under \"Other\" in Region column.\\n')"
   ]
  },
  {
   "cell_type": "code",
   "execution_count": 158,
   "metadata": {},
   "outputs": [
    {
     "name": "stdout",
     "output_type": "stream",
     "text": [
      "Unique Values in Region column:\n",
      " ['Inside Canada' 'North America' 'Central America' 'Caribbean and Bermuda'\n",
      " 'South America' 'West Central Asia and the Middle East' 'Western Europe'\n",
      " 'Eastern Europe' 'Northern Europe' 'Southern Europe' 'Western Africa'\n",
      " 'Eastern Africa' 'Northern Africa' 'Central Africa' 'Southern Africa'\n",
      " 'Eastern Asia' 'Southeast Asia' 'Southern Asia' 'Oceania'\n",
      " 'Antarctica and Adjacent Islands'] \n",
      "\n",
      "Comment:\n",
      " >> The records under \"Other\" has been removed.\n",
      " >> I will now create a new column called Continent and populate it with the region.\n",
      "\n"
     ]
    }
   ],
   "source": [
    "# Remove the \"Other\" from the records from region column.\n",
    "not_reg_other = ~immigration_data_stat['Place of Birth(Region)'].isin(['Other'])\n",
    "immigration_data_reg = immigration_data_stat[not_reg_other]\n",
    "\n",
    "# Get the unique values in Region column.\n",
    "print('Unique Values in Region column:\\n', immigration_data_reg['Place of Birth(Region)'].unique(), '\\n')\n",
    "\n",
    "# Comment.\n",
    "print('Comment:\\n', '>> The records under \"Other\" has been removed.\\n',\n",
    "      '>> I will now create a new column called Continent and populate it with the region.\\n')"
   ]
  },
  {
   "cell_type": "code",
   "execution_count": 159,
   "metadata": {},
   "outputs": [],
   "source": [
    "# Create a list of continent.\n",
    "continent = [\"Americas\", \"Europe\",\t\"Africa\", \"Asia\", \"Oceania\", \"Antarctica and Adjacent Islands\", \"Inside Canada\"]\n",
    "\n",
    "# Create Americas to capture regions under the continent.\n",
    "ame = \"North Americ|Central Americ|Caribbean and Bermud|South America\"\n",
    "\n",
    "# Create Europe to capture regions under the continent.\n",
    "eur = \"Western Europ|Eastern Europ|Northern Europ|Southern Europ\"\n",
    "\n",
    "# Create Africa to capture regions under the continent.\n",
    "afr = \"Western Afric|Eastern Afric|Northern Afric|Central Afric|Southern Afric\"\n",
    "\n",
    "# Create Asia to capture regions under the continent.\n",
    "asi = \"West Central Asia and the Middle Eas|Eastern Asi|Southeast Asi|Southern Asi\"\n",
    "\n",
    "# Create Oceania to capture regions under the continent.\n",
    "oce = \"Ocean\"\n",
    "\n",
    "# Create Antarctica and Adjacent Islands to capture regions under the continent.\n",
    "ant = \"Antarctica\"\n",
    "\n",
    "# Create Inside Canada to capture regions under the continent.\n",
    "inca = \"Inside Cana\""
   ]
  },
  {
   "cell_type": "code",
   "execution_count": null,
   "metadata": {},
   "outputs": [],
   "source": [
    "# Create conditions for continent to be created.\n",
    "conditions = [\n",
    "    (immigration_data_reg['Place of Birth(Region)'].str.contains(ame)),\n",
    "    (immigration_data_reg['Place of Birth(Region)'].str.contains(eur)),\n",
    "    (immigration_data_reg['Place of Birth(Region)'].str.contains(afr)),\n",
    "    (immigration_data_reg['Place of Birth(Region)'].str.contains(asi)),\n",
    "    (immigration_data_reg['Place of Birth(Region)'].str.contains(oce)),\n",
    "    (immigration_data_reg['Place of Birth(Region)'].str.contains(ant)),\n",
    "    (immigration_data_reg['Place of Birth(Region)'].str.contains(inca))\n",
    "]\n",
    "\n",
    "# Apply the conditions to create Region.\n",
    "immigration_data_reg['Place of Birth(Continent)'] = np.select(conditions, continent, default='Other')"
   ]
  },
  {
   "cell_type": "code",
   "execution_count": 161,
   "metadata": {},
   "outputs": [
    {
     "name": "stdout",
     "output_type": "stream",
     "text": [
      "Unique Values in Continent column:\n",
      " ['Inside Canada' 'Americas' 'Asia' 'Europe' 'Africa' 'Oceania'\n",
      " 'Antarctica and Adjacent Islands'] \n",
      "\n",
      "Unique Values in Place of birth(Region) column, grouped under Other:\n",
      " [] \n",
      "\n",
      "Comment:\n",
      " >> The unique regions in Region column has been grouped into continents.\n",
      " >> This means all regions are captured and there is no records under \"Other\".\n",
      " >> I will create a column to group the Continent column into two locations.\n",
      "\n"
     ]
    }
   ],
   "source": [
    "# Get the unique values in Continent column.\n",
    "print('Unique Values in Continent column:\\n', immigration_data_reg['Place of Birth(Continent)'].unique(), '\\n')\n",
    "\n",
    "# Get the unique values in Place of birth column where Region is \"Other\".\n",
    "sai = immigration_data_reg[immigration_data_reg['Place of Birth(Continent)'] == 'Other']\n",
    "print('Unique Values in Place of birth(Region) column, grouped under Other:\\n',sai['Place of Birth(Region)'].unique(), '\\n')\n",
    "\n",
    "# Comment.\n",
    "print('Comment:\\n', '>> The unique regions in Region column has been grouped into continents.\\n',\n",
    "        '>> This means all regions are captured and there is no records under \"Other\".\\n',\n",
    "        '>> I will create a column to group the Continent column into two locations.\\n')"
   ]
  },
  {
   "cell_type": "code",
   "execution_count": 162,
   "metadata": {},
   "outputs": [],
   "source": [
    "# Create a list of location.\n",
    "location = [\"Inside Canada\", \"Outside Canada\"]\n",
    "\n",
    "# Create Inside Canada to capture the locations.\n",
    "iic = \"Inside Cana\"\n",
    "\n",
    "# Create Outside Canada to capture the locations.\n",
    "otc = \"America|Europ|Afric|Asi|Oceani|Antarctica and Adjacent Island\""
   ]
  },
  {
   "cell_type": "code",
   "execution_count": null,
   "metadata": {},
   "outputs": [],
   "source": [
    "# Create conditions for locations to be created.\n",
    "conditions_loc = [\n",
    "    (immigration_data_reg['Place of Birth(Continent)'].str.contains(iic)),\n",
    "    (immigration_data_reg['Place of Birth(Continent)'].str.contains(otc))\n",
    "]\n",
    "\n",
    "# Apply the conditions to create Region.\n",
    "immigration_data_reg['Place of Birth(Locations)'] = np.select(conditions_loc, location, default='Other')"
   ]
  },
  {
   "cell_type": "code",
   "execution_count": 164,
   "metadata": {},
   "outputs": [
    {
     "name": "stdout",
     "output_type": "stream",
     "text": [
      "Unique Values in Locations column:\n",
      " ['Inside Canada' 'Outside Canada'] \n",
      "\n",
      "Data Shape: (748890, 21) \n",
      "\n",
      "Column List:\n",
      " Index(['GEO', 'DGUID', 'Age (15C)', 'Gender (3)', 'Statistics (2)',\n",
      "       'Place of birth (290)', 'Period of immigration (8):Before 1980[2]',\n",
      "       'Period of immigration (8):1980 to 1990[3]',\n",
      "       'Period of immigration (8):1991 to 2000[4]',\n",
      "       'Period of immigration (8):2001 to 2005[5]',\n",
      "       'Period of immigration (8):2006 to 2010[6]',\n",
      "       'Period of immigration (8):2011 to 2015[7]',\n",
      "       'Period of immigration (8):2016 to 2021[8]', 'Destination(Province)',\n",
      "       'Destination(Country)', 'Immgrants Age (Age Grp2)',\n",
      "       'Immgrants Age (Age Grp3)', 'Immgrants Age (Age Grp4)',\n",
      "       'Place of Birth(Region)', 'Place of Birth(Continent)',\n",
      "       'Place of Birth(Locations)'],\n",
      "      dtype='object') \n",
      "\n"
     ]
    }
   ],
   "source": [
    "# Get the unique values in Locations column.\n",
    "print('Unique Values in Locations column:\\n', immigration_data_reg['Place of Birth(Locations)'].unique(), '\\n')\n",
    "\n",
    "# Get the shape of the data and the list of columns.\n",
    "print('Data Shape:', immigration_data_reg.shape, '\\n')\n",
    "print('Column List:\\n', immigration_data_reg.columns, '\\n')"
   ]
  },
  {
   "cell_type": "code",
   "execution_count": 165,
   "metadata": {},
   "outputs": [
    {
     "name": "stdout",
     "output_type": "stream",
     "text": [
      "Comment:\n",
      " >> The categorical column has been cleaned and is ready for analysis.\n",
      " >> The data has been reduced from 4.5 million records to 748k records.\n",
      " >> Time to explore the numerical columns.\n",
      "\n"
     ]
    }
   ],
   "source": [
    "# Comment.\n",
    "print('Comment:\\n', '>> The categorical column has been cleaned and is ready for analysis.\\n',\n",
    "      '>> The data has been reduced from 4.5 million records to 748k records.\\n',\n",
    "      '>> Time to explore the numerical columns.\\n')"
   ]
  },
  {
   "cell_type": "code",
   "execution_count": 166,
   "metadata": {},
   "outputs": [
    {
     "name": "stdout",
     "output_type": "stream",
     "text": [
      "<class 'pandas.core.frame.DataFrame'>\n",
      "Int64Index: 748890 entries, 54522 to 4541108\n",
      "Data columns (total 21 columns):\n",
      " #   Column                                     Non-Null Count   Dtype  \n",
      "---  ------                                     --------------   -----  \n",
      " 0   GEO                                        748890 non-null  object \n",
      " 1   DGUID                                      748890 non-null  object \n",
      " 2   Age (15C)                                  748890 non-null  object \n",
      " 3   Gender (3)                                 748890 non-null  object \n",
      " 4   Statistics (2)                             748890 non-null  object \n",
      " 5   Place of birth (290)                       748890 non-null  object \n",
      " 6   Period of immigration (8):Before 1980[2]   748890 non-null  float64\n",
      " 7   Period of immigration (8):1980 to 1990[3]  748890 non-null  float64\n",
      " 8   Period of immigration (8):1991 to 2000[4]  748890 non-null  float64\n",
      " 9   Period of immigration (8):2001 to 2005[5]  748890 non-null  float64\n",
      " 10  Period of immigration (8):2006 to 2010[6]  748890 non-null  float64\n",
      " 11  Period of immigration (8):2011 to 2015[7]  748890 non-null  float64\n",
      " 12  Period of immigration (8):2016 to 2021[8]  748890 non-null  float64\n",
      " 13  Destination(Province)                      748890 non-null  object \n",
      " 14  Destination(Country)                       748890 non-null  object \n",
      " 15  Immgrants Age (Age Grp2)                   748890 non-null  object \n",
      " 16  Immgrants Age (Age Grp3)                   748890 non-null  object \n",
      " 17  Immgrants Age (Age Grp4)                   748890 non-null  object \n",
      " 18  Place of Birth(Region)                     748890 non-null  object \n",
      " 19  Place of Birth(Continent)                  748890 non-null  object \n",
      " 20  Place of Birth(Locations)                  748890 non-null  object \n",
      "dtypes: float64(7), object(14)\n",
      "memory usage: 125.7+ MB\n",
      "Numerical columns:\n",
      " None \n",
      "\n",
      "Comment:\n",
      " >> I will change the data type of the numerical columns to int because a population number should be in integer.\n",
      " >> I will create a column titled total to sum the total population.\n",
      "\n"
     ]
    }
   ],
   "source": [
    "# Get the numerical columns.\n",
    "print('Numerical columns:\\n', immigration_data_reg.info(), '\\n')\n",
    "\n",
    "# Comment.\n",
    "print('Comment:\\n', '>> I will change the data type of the numerical columns to int because a population number should be in integer.\\n',\n",
    "      '>> I will create a column titled total to sum the total population.\\n')"
   ]
  },
  {
   "cell_type": "code",
   "execution_count": null,
   "metadata": {},
   "outputs": [],
   "source": [
    "# Change the data type of the numerical columns to int.\n",
    "immigration_data_reg['Period of immigration (8):Before 1980[2]'] = immigration_data_reg['Period of immigration (8):Before 1980[2]'].astype(np.int64)\n",
    "immigration_data_reg['Period of immigration (8):1980 to 1990[3]'] = immigration_data_reg['Period of immigration (8):1980 to 1990[3]'].astype(np.int64)\n",
    "immigration_data_reg['Period of immigration (8):1991 to 2000[4]'] = immigration_data_reg['Period of immigration (8):1991 to 2000[4]'].astype(np.int64)\n",
    "immigration_data_reg['Period of immigration (8):2001 to 2005[5]'] = immigration_data_reg['Period of immigration (8):2001 to 2005[5]'].astype(np.int64)\n",
    "immigration_data_reg['Period of immigration (8):2006 to 2010[6]'] = immigration_data_reg['Period of immigration (8):2006 to 2010[6]'].astype(np.int64)\n",
    "immigration_data_reg['Period of immigration (8):2011 to 2015[7]'] = immigration_data_reg['Period of immigration (8):2011 to 2015[7]'].astype(np.int64)\n",
    "immigration_data_reg['Period of immigration (8):2016 to 2021[8]'] = immigration_data_reg['Period of immigration (8):2016 to 2021[8]'].astype(np.int64)\n"
   ]
  },
  {
   "cell_type": "code",
   "execution_count": 168,
   "metadata": {},
   "outputs": [
    {
     "name": "stdout",
     "output_type": "stream",
     "text": [
      "<class 'pandas.core.frame.DataFrame'>\n",
      "Int64Index: 748890 entries, 54522 to 4541108\n",
      "Data columns (total 21 columns):\n",
      " #   Column                                     Non-Null Count   Dtype \n",
      "---  ------                                     --------------   ----- \n",
      " 0   GEO                                        748890 non-null  object\n",
      " 1   DGUID                                      748890 non-null  object\n",
      " 2   Age (15C)                                  748890 non-null  object\n",
      " 3   Gender (3)                                 748890 non-null  object\n",
      " 4   Statistics (2)                             748890 non-null  object\n",
      " 5   Place of birth (290)                       748890 non-null  object\n",
      " 6   Period of immigration (8):Before 1980[2]   748890 non-null  int64 \n",
      " 7   Period of immigration (8):1980 to 1990[3]  748890 non-null  int64 \n",
      " 8   Period of immigration (8):1991 to 2000[4]  748890 non-null  int64 \n",
      " 9   Period of immigration (8):2001 to 2005[5]  748890 non-null  int64 \n",
      " 10  Period of immigration (8):2006 to 2010[6]  748890 non-null  int64 \n",
      " 11  Period of immigration (8):2011 to 2015[7]  748890 non-null  int64 \n",
      " 12  Period of immigration (8):2016 to 2021[8]  748890 non-null  int64 \n",
      " 13  Destination(Province)                      748890 non-null  object\n",
      " 14  Destination(Country)                       748890 non-null  object\n",
      " 15  Immgrants Age (Age Grp2)                   748890 non-null  object\n",
      " 16  Immgrants Age (Age Grp3)                   748890 non-null  object\n",
      " 17  Immgrants Age (Age Grp4)                   748890 non-null  object\n",
      " 18  Place of Birth(Region)                     748890 non-null  object\n",
      " 19  Place of Birth(Continent)                  748890 non-null  object\n",
      " 20  Place of Birth(Locations)                  748890 non-null  object\n",
      "dtypes: int64(7), object(14)\n",
      "memory usage: 125.7+ MB\n",
      "Numerical columns:\n",
      " None \n",
      "\n"
     ]
    }
   ],
   "source": [
    "# Confirm the data type of the numerical columns.\n",
    "print('Numerical columns:\\n', immigration_data_reg.info(), '\\n')"
   ]
  },
  {
   "cell_type": "code",
   "execution_count": 169,
   "metadata": {},
   "outputs": [
    {
     "name": "stderr",
     "output_type": "stream",
     "text": [
      "c:\\Users\\godek\\anaconda3\\envs\\myenv\\lib\\site-packages\\ipykernel_launcher.py:6: SettingWithCopyWarning: \n",
      "A value is trying to be set on a copy of a slice from a DataFrame.\n",
      "Try using .loc[row_indexer,col_indexer] = value instead\n",
      "\n",
      "See the caveats in the documentation: https://pandas.pydata.org/pandas-docs/stable/user_guide/indexing.html#returning-a-view-versus-a-copy\n",
      "  \n"
     ]
    }
   ],
   "source": [
    "# Add a column to sum the total immigration.\n",
    "immigration_perd = ['Period of immigration (8):Before 1980[2]', 'Period of immigration (8):1980 to 1990[3]',\n",
    "                    'Period of immigration (8):1991 to 2000[4]', 'Period of immigration (8):2001 to 2005[5]',\n",
    "                    'Period of immigration (8):2006 to 2010[6]', 'Period of immigration (8):2011 to 2015[7]',\n",
    "                    'Period of immigration (8):2016 to 2021[8]']\n",
    "immigration_data_reg['Total Immigration'] = immigration_data_reg[immigration_perd].sum(axis=1)"
   ]
  },
  {
   "cell_type": "code",
   "execution_count": 170,
   "metadata": {},
   "outputs": [
    {
     "data": {
      "image/png": "[encoded data removed]",
      "text/plain": [
       "<Figure size 500x500 with 1 Axes>"
      ]
     },
     "metadata": {},
     "output_type": "display_data"
    },
    {
     "name": "stdout",
     "output_type": "stream",
     "text": [
      "Total Immigration before 1980 to 2021:\n",
      "                                 Total Immigration  Immigration Share(%)\n",
      "Place of Birth(Continent)                                              \n",
      "Africa                                    730,135                  9.09\n",
      "Americas                                1,429,985                 17.80\n",
      "Antarctica and Adjacent Islands                 0                  0.00\n",
      "Asia                                    4,127,020                 51.38\n",
      "Europe                                  1,696,425                 21.12\n",
      "Inside Canada                                 650                  0.01\n",
      "Oceania                                    47,605                  0.59\n",
      "Total                                   8,031,820                100.00 \n",
      "\n"
     ]
    }
   ],
   "source": [
    "# Plot Total immigration by Place of Birth(Continent).\n",
    "sns.set_style('whitegrid')\n",
    "cont_order =  ['Asia', 'Europe','Americas', 'Africa', 'Oceania', 'Antarctica and Adjacent Islands', 'Inside Canada']\n",
    "g = sns.catplot(data= immigration_data_reg, x = 'Place of Birth(Continent)', y = 'Total Immigration', kind = 'bar', errorbar=None,\\\n",
    "    order= cont_order, estimator=sum)\n",
    "\n",
    "# Set the title of the plot.    \n",
    "g.fig.suptitle('Canada Immigrants Pop and Place of Birth (Pre-1980 to 2021)', y = 1.01)\n",
    "plt.xticks(rotation=90)\n",
    "plt.show()\n",
    "\n",
    "\n",
    "\n",
    "# Summarize the total immigration by continent.\n",
    "imm_cont = immigration_data_reg.pivot_table(index = ['Place of Birth(Continent)'], values = ['Total Immigration'], aggfunc = 'sum', margins=all, \n",
    "                                            margins_name='Total')\n",
    "\n",
    "# Calculate the % Contribution of each Continent to the total immigrants.\n",
    "\n",
    "# Get the population for each Continent as a % of the Total immigrants\n",
    "\n",
    "\n",
    "imm_cont[\"Immigration Share(%)\"] = round(imm_cont['Total Immigration']/imm_cont['Total Immigration'].iloc[7] * 100, 2)\n",
    "\n",
    "# Add comma separator to the numbers\n",
    "cols_to_commasep = ['Total Immigration']\n",
    "imm_cont[cols_to_commasep] = imm_cont[cols_to_commasep].applymap('{:,}'.format)\n",
    "\n",
    "# Print result.\n",
    "print('Total Immigration before 1980 to 2021:\\n',imm_cont, '\\n')"
   ]
  },
  {
   "cell_type": "code",
   "execution_count": 171,
   "metadata": {},
   "outputs": [
    {
     "data": {
      "image/png": "[encoded data removed]",
      "text/plain": [
       "<Figure size 500x500 with 1 Axes>"
      ]
     },
     "metadata": {},
     "output_type": "display_data"
    },
    {
     "name": "stdout",
     "output_type": "stream",
     "text": [
      "Immigrants Destination(Pre 1980 to 2021):\n",
      "                           Total Immigration  Immigration Share(%)\n",
      "Destination(Province)                                            \n",
      "Alberta                             879,415                 10.95\n",
      "British Columbia                  1,305,600                 16.26\n",
      "Manitoba                            220,155                  2.74\n",
      "New Brunswick                        23,275                  0.29\n",
      "Newfoundland and Labrador             6,455                  0.08\n",
      "Northwest Territories                 1,680                  0.02\n",
      "Nova Scotia                          48,685                  0.61\n",
      "Nunavut                                 905                  0.01\n",
      "Ontario                           4,193,355                 52.21\n",
      "Prince Edward Island                  6,690                  0.08\n",
      "Quebec                            1,239,845                 15.44\n",
      "Saskatchewan                        102,710                  1.28\n",
      "Yukon                                 3,050                  0.04\n",
      "Total                             8,031,820                100.00 \n",
      "\n"
     ]
    }
   ],
   "source": [
    "# Plot Total immigration by Destination(Province).\n",
    "sns.set_style('whitegrid')\n",
    "pro_order =  ['Ontario','British Columbia','Quebec','Alberta','Manitoba','Saskatchewan','Nova Scotia','New Brunswick','Newfoundland and Labrador',\\\n",
    "    'Prince Edward Island',  'Yukon', 'Northwest Territories', 'Nunavut']\n",
    "f = sns.catplot(data= immigration_data_reg, y = 'Destination(Province)', x = 'Total Immigration', kind = 'bar', errorbar=None, estimator= 'sum',\\\n",
    "    orient='h', order= pro_order)\n",
    "\n",
    "\n",
    "\n",
    "# Set the title of the plot.    \n",
    "f.fig.suptitle('Immigrants Destination in Canada (Pre-1980 to 2021)', y = 1.01)\n",
    "plt.xticks(rotation=90)\n",
    "plt.show()\n",
    "\n",
    "\n",
    "# Summarize the total immigration by continent.\n",
    "des_prov = immigration_data_reg.pivot_table(index = ['Destination(Province)'], values = ['Total Immigration'], aggfunc = 'sum', margins=all, \n",
    "                                            margins_name='Total')\n",
    "\n",
    "# Calculate the % Contribution of each Continent to the total immigrants.\n",
    "\n",
    "# Get the population for each Continent as a % of the Total immigrants\n",
    "\n",
    "\n",
    "des_prov[\"Immigration Share(%)\"] = round(des_prov['Total Immigration']/des_prov['Total Immigration'].iloc[13] * 100, 2)\n",
    "\n",
    "\n",
    "\n",
    "# Add comma separator to the numbers\n",
    "cols_to_commasep = ['Total Immigration']\n",
    "des_prov[cols_to_commasep] = des_prov[cols_to_commasep].applymap('{:,}'.format)\n",
    "\n",
    "# Print result.\n",
    "print('Immigrants Destination(Pre 1980 to 2021):\\n',des_prov, '\\n')"
   ]
  },
  {
   "cell_type": "code",
   "execution_count": 172,
   "metadata": {},
   "outputs": [
    {
     "name": "stdout",
     "output_type": "stream",
     "text": [
      "Index(['Destination(GEO)', 'DGUID', 'Immigrants Age(Grp1)', 'Gender',\n",
      "       'Statistics (2)', 'Place of Birth(Country)', 'Before 1980',\n",
      "       '1980 to 1990', '1991 to 2000', '2001 to 2005', '2006 to 2010',\n",
      "       '2011 to 2015', '2016 to 2021', 'Destination(Province)',\n",
      "       'Destination(Country)', 'Immigrants Age (Age Grp2)',\n",
      "       'Immigrants Age (Age Grp3)', 'Immigrants Age (Age Grp4)',\n",
      "       'Place of Birth(Region)', 'Place of Birth(Continent)',\n",
      "       'Place of Birth(Locations)', 'Total Immigrants Population'],\n",
      "      dtype='object')\n",
      "54522    Newfoundland and Labrador\n",
      "54523         Prince Edward Island\n",
      "54524                  Nova Scotia\n",
      "54525                New Brunswick\n",
      "54526                       Quebec\n",
      "Name: Place of Birth(Country), dtype: object\n"
     ]
    },
    {
     "name": "stderr",
     "output_type": "stream",
     "text": [
      "c:\\Users\\godek\\anaconda3\\envs\\myenv\\lib\\site-packages\\pandas\\core\\frame.py:5047: SettingWithCopyWarning: \n",
      "A value is trying to be set on a copy of a slice from a DataFrame\n",
      "\n",
      "See the caveats in the documentation: https://pandas.pydata.org/pandas-docs/stable/user_guide/indexing.html#returning-a-view-versus-a-copy\n",
      "  errors=errors,\n"
     ]
    }
   ],
   "source": [
    "# Rename the columns.\n",
    "\n",
    "new_cols = {'GEO':'Destination(GEO)','Age (15C)':'Immigrants Age(Grp1)','Immgrants Age (Age Grp2)':'Immigrants Age (Age Grp2)',\\\n",
    "    'Immgrants Age (Age Grp3)':'Immigrants Age (Age Grp3)', 'Immgrants Age (Age Grp4)':'Immigrants Age (Age Grp4)',\\\n",
    "        'Total Immigration':'Total Immigrants Population','Period of immigration (8):Before 1980[2]':'Before 1980',\\\n",
    "            'Period of immigration (8):1980 to 1990[3]':'1980 to 1990','Period of immigration (8):1991 to 2000[4]': '1991 to 2000',\\\n",
    "                'Period of immigration (8):2001 to 2005[5]':'2001 to 2005', 'Period of immigration (8):2006 to 2010[6]':'2006 to 2010',\\\n",
    "                    'Period of immigration (8):2011 to 2015[7]':'2011 to 2015','Period of immigration (8):2016 to 2021[8]':'2016 to 2021',\\\n",
    "                        'Place of birth (290)':'Place of Birth(Country)','Gender (3)':'Gender'}\n",
    "\n",
    "immigration_data_reg.rename(columns = new_cols, inplace = True)\n",
    "print(immigration_data_reg.columns)"
   ]
  },
  {
   "cell_type": "code",
   "execution_count": 174,
   "metadata": {},
   "outputs": [
    {
     "name": "stdout",
     "output_type": "stream",
     "text": [
      "Index(['Place of Birth(Locations)', 'Place of Birth(Continent)',\n",
      "       'Place of Birth(Region)', 'Place of Birth(Country)',\n",
      "       'Place of Birth(Country)', 'Gender', 'Immigrants Age (Age Grp4)',\n",
      "       'Immigrants Age (Age Grp3)', 'Immigrants Age (Age Grp2)',\n",
      "       'Immigrants Age(Grp1)', 'Destination(Country)', 'Destination(Province)',\n",
      "       'Destination(GEO)', 'DGUID', 'Statistics (2)', 'Before 1980',\n",
      "       '1980 to 1990', '1991 to 2000', '2001 to 2005', '2006 to 2010',\n",
      "       '2011 to 2015', '2016 to 2021', 'Total Immigrants Population'],\n",
      "      dtype='object')\n"
     ]
    }
   ],
   "source": [
    "# Re-arrange the columns.\n",
    "column_order = ['Place of Birth(Locations)','Place of Birth(Continent)','Place of Birth(Region)','Place of Birth(Country)',\\\n",
    "    'Place of Birth(Country)','Gender','Immigrants Age (Age Grp4)','Immigrants Age (Age Grp3)','Immigrants Age (Age Grp2)',\\\n",
    "        'Immigrants Age(Grp1)','Destination(Country)','Destination(Province)','Destination(GEO)','DGUID','Statistics (2)',\\\n",
    "            'Before 1980','1980 to 1990','1991 to 2000', '2001 to 2005',\\\n",
    "            '2006 to 2010','2011 to 2015','2016 to 2021','Total Immigrants Population']\n",
    "\n",
    "immigration_data_reg = immigration_data_reg[column_order]\n",
    "\n",
    "print(immigration_data_reg.columns)"
   ]
  }
 ],
 "metadata": {
  "kernelspec": {
   "display_name": "Python 3",
   "language": "python",
   "name": "python3"
  },
  "language_info": {
   "codemirror_mode": {
    "name": "ipython",
    "version": 3
   },
   "file_extension": ".py",
   "mimetype": "text/x-python",
   "name": "python",
   "nbconvert_exporter": "python",
   "pygments_lexer": "ipython3",
   "version": "3.7.16"
  },
  "orig_nbformat": 4
 },
 "nbformat": 4,
 "nbformat_minor": 2
}
